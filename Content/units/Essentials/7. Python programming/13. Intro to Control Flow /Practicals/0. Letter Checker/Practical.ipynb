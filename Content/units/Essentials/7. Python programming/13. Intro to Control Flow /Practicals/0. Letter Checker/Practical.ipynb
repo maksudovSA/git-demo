{
  "cells": [
    {
      "cell_type": "markdown",
      "id": "2a815162",
      "metadata": {
        "id": "2a815162"
      },
      "source": [
        "# Letter Checker and String Reverse"
      ]
    },
    {
      "cell_type": "code",
      "execution_count": 1,
      "id": "d3e39016",
      "metadata": {
        "id": "d3e39016",
        "outputId": "bd6d9e26-7729-4985-cb7c-c41f5cae0a4d",
        "colab": {
          "base_uri": "https://localhost:8080/"
        }
      },
      "outputs": [
        {
          "output_type": "stream",
          "name": "stdout",
          "text": [
            "Downloading the marking system\n"
          ]
        }
      ],
      "source": [
        "#@title ### Run the following cell to download the necessary files for this practical { display-mode: \"form\" }\n",
        "#@markdown Don't worry about what's in this collapsed cell\n",
        "\n",
        "print('Downloading the marking system')\n",
        "!wget https://s3-eu-west-1.amazonaws.com/aicore-portal-public-prod-307050600709/practical_files/08237562-408c-4d29-853f-37db2f44d490/marking_system.py -q -O marking_system.py\n",
        "import marking_system\n",
        "import importlib\n",
        "importlib.reload(marking_system)\n",
        "import sys\n",
        "ipython = get_ipython()\n",
        "def hide_traceback(exc_tuple=None, filename=None, tb_offset=None, exception_only=False, running_compiled_code=False):\n",
        "    etype, value, tb = sys.exc_info()\n",
        "    value.__cause__ = None  # suppress chained exceptions\n",
        "    return ipython._showtraceback(etype, \"❌ \" + f\"\u001b[91m{value}\", ipython.InteractiveTB.get_exception_only(etype, \"❌ \" + f\"\u001b[91m{value}\"))\n",
        "ipython.showtraceback = hide_traceback\n"
      ]
    },
    {
      "cell_type": "markdown",
      "id": "521e89fc",
      "metadata": {
        "id": "521e89fc"
      },
      "source": [
        "### Given the following strings"
      ]
    },
    {
      "cell_type": "code",
      "execution_count": 2,
      "id": "988152df",
      "metadata": {
        "id": "988152df"
      },
      "outputs": [],
      "source": [
        "phrase_1 = 'Clean Couch'\n",
        "phrase_2 = 'Giant Table'\n"
      ]
    },
    {
      "cell_type": "markdown",
      "id": "a4f6f72b",
      "metadata": {
        "id": "a4f6f72b"
      },
      "source": [
        "### 1. Check if the first letter of each string is the same.\n",
        "\n",
        "If it is, print `\"The first letters are the same.\"`. If it is not, print `\"The first letters are different.\"`"
      ]
    },
    {
      "cell_type": "code",
      "execution_count": 9,
      "id": "a571accc",
      "metadata": {
        "id": "a571accc",
        "outputId": "6e1a920d-89e2-403e-a357-7ffdee43a5a5",
        "colab": {
          "base_uri": "https://localhost:8080/"
        }
      },
      "outputs": [
        {
          "output_type": "stream",
          "name": "stdout",
          "text": [
            "The first letters are different.\n"
          ]
        }
      ],
      "source": [
        "# Add your code below this line\n",
        "# TODO - In an if-else statement, check if the first letters of phrase_1 and phrase_2 are the same.\n",
        "if phrase_1[0] == phrase_2[0]:\n",
        "  print(\"The first letters are the same.\")\n",
        "else:\n",
        "  print(\"The first letters are different.\")"
      ]
    },
    {
      "cell_type": "code",
      "execution_count": 10,
      "id": "328257a9",
      "metadata": {
        "id": "328257a9",
        "outputId": "d017657b-53b6-4cae-d4dc-38dc9988dab2",
        "colab": {
          "base_uri": "https://localhost:8080/"
        }
      },
      "outputs": [
        {
          "output_type": "stream",
          "name": "stdout",
          "text": [
            "\u001b[92m✔ Well done! You successfully compared the first letters of the strings using the 'if' statement.\n"
          ]
        }
      ],
      "source": [
        "#@title #### Run this cell to check if your code looks good { display-mode: \"form\"}\n",
        "assert \"# Add your code below this line\" in _ih[-2], \"Before checking your code, make sure the last cell you ran contains your code. If you did, make sure you haven't deleted the comment that says '# Add your code below this line'.\"\n",
        "assert \"#@title\" not in _ih[-2], \"If you want to check your code, rerun the cell that contains your code. If you did, make sure you haven't deleted the comment that says '# Add your code below this line'.\"\n",
        "\n",
        "marking_system.check_step_1(_ih[-2])\n"
      ]
    },
    {
      "cell_type": "markdown",
      "id": "36affa5e",
      "metadata": {
        "id": "36affa5e"
      },
      "source": [
        "### 2. Try the same using the following strings:"
      ]
    },
    {
      "cell_type": "code",
      "execution_count": 12,
      "id": "77e36b1e",
      "metadata": {
        "id": "77e36b1e",
        "outputId": "950a3254-4a20-42bc-82f2-c3356d0c4f73",
        "colab": {
          "base_uri": "https://localhost:8080/"
        }
      },
      "outputs": [
        {
          "output_type": "stream",
          "name": "stdout",
          "text": [
            "The first letters are the same.\n"
          ]
        }
      ],
      "source": [
        "phrase_1 = \"Clean Couch\"\n",
        "phrase_2 = \"Crooked Table\"\n",
        "if phrase_1[0] == phrase_2[0]:\n",
        "  print(\"The first letters are the same.\")\n",
        "else:\n",
        "  print(\"The first letters are different.\")"
      ]
    },
    {
      "cell_type": "markdown",
      "id": "f2908802",
      "metadata": {
        "id": "f2908802"
      },
      "source": []
    }
  ],
  "metadata": {
    "kernelspec": {
      "display_name": "content-projects_new",
      "language": "python",
      "name": "python3"
    },
    "language_info": {
      "codemirror_mode": {
        "name": "ipython",
        "version": 3
      },
      "file_extension": ".py",
      "mimetype": "text/x-python",
      "name": "python",
      "nbconvert_exporter": "python",
      "pygments_lexer": "ipython3",
      "version": "3.10.8"
    },
    "vscode": {
      "interpreter": {
        "hash": "4b961f8166aad6ccb4cf65d0f9c742ef9c6c23ffe83ad932438cd83ed96aebaf"
      }
    },
    "colab": {
      "provenance": []
    }
  },
  "nbformat": 4,
  "nbformat_minor": 5
}