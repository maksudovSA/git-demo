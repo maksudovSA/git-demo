{
  "cells": [
    {
      "cell_type": "markdown",
      "id": "6d8086c5",
      "metadata": {
        "id": "6d8086c5"
      },
      "source": [
        "# Flight Safety Checker"
      ]
    },
    {
      "cell_type": "markdown",
      "id": "85b8aef7",
      "metadata": {
        "id": "85b8aef7"
      },
      "source": [
        "Given 2 variables, `altitude` (ft) and `airspeed` (knots)\n",
        "\n",
        "### 1. Write a program that categorises entries into 'safe flying' and 'unsafe flying' based on the following criteria:\n",
        "   - An `altitude` below 100ft or above 50000ft is considered unsafe flying\n",
        "   - An `airspeed` below 60 knots or above 500 knots is considered unsafe flying\n",
        "   - If `altitude` and `airspeed` are outside these ranges, the flight is considered as safe\n",
        "   \n",
        "*CLUE: You will have to figure out the syntax for using `and`/`or` keywords in `if` statements*\n",
        "\n",
        "<p style=\"font-size: 14px; color: #999999; margin-top: 0px; margin-bottom: 0px;\">This practical doesn't have a marking system because there are many ways to tackle this issue</p>"
      ]
    },
    {
      "cell_type": "code",
      "execution_count": 6,
      "id": "ad3c42c9",
      "metadata": {
        "id": "ad3c42c9",
        "outputId": "13aaaaa0-55fd-409d-893c-b872a457c4ae",
        "colab": {
          "base_uri": "https://localhost:8080/"
        }
      },
      "outputs": [
        {
          "output_type": "stream",
          "name": "stdout",
          "text": [
            "Altitude is within the safe range\n"
          ]
        }
      ],
      "source": [
        "# TODO - Create a variable called altitude and set it to a value in ft\n",
        "# TODO - Create a variable called airspeed and set it to a value in knots\n",
        "\n",
        "# TODO - Create the if/else statement to check if the altitude is within the safe range\n",
        "altitude = 150\n",
        "airspeed = 70\n",
        "if (altitude < 100) or (altitude > 50000) or (airspeed < 60) or (airspeed > 500):\n",
        "  print(\"Altitude is within the unsafe range\")\n",
        "else:\n",
        "  print(\"Altitude is within the safe range\")"
      ]
    },
    {
      "cell_type": "markdown",
      "id": "a42d9e5f",
      "metadata": {
        "id": "a42d9e5f"
      },
      "source": [
        "### 2. Try to write this as cleanly as possible and test your code with the following by substituting in again:\n",
        "\n",
        "- Altitude: 25000ft, Airspeed: 300 knots\n",
        "- Altitude: 50001ft, Airspeed: 250 knots\n",
        "- Altitude: 90ft, Airspeed: 125 knots"
      ]
    },
    {
      "cell_type": "code",
      "execution_count": 7,
      "id": "30ef543d",
      "metadata": {
        "id": "30ef543d",
        "outputId": "1cbd46e6-acd2-4b97-f1da-179d2968936c",
        "colab": {
          "base_uri": "https://localhost:8080/"
        }
      },
      "outputs": [
        {
          "output_type": "stream",
          "name": "stdout",
          "text": [
            "Altitude is within the unsafe range\n"
          ]
        }
      ],
      "source": [
        "altitude = 50001\n",
        "airspeed = 250\n",
        "if (altitude < 100) or (altitude > 50000) or (airspeed < 60) or (airspeed > 500):\n",
        "  print(\"Altitude is within the unsafe range\")\n",
        "else:\n",
        "  print(\"Altitude is within the safe range\")"
      ]
    }
  ],
  "metadata": {
    "kernelspec": {
      "display_name": "content-projects_new",
      "language": "python",
      "name": "python3"
    },
    "language_info": {
      "codemirror_mode": {
        "name": "ipython",
        "version": 3
      },
      "file_extension": ".py",
      "mimetype": "text/x-python",
      "name": "python",
      "nbconvert_exporter": "python",
      "pygments_lexer": "ipython3",
      "version": "3.10.8"
    },
    "vscode": {
      "interpreter": {
        "hash": "4b961f8166aad6ccb4cf65d0f9c742ef9c6c23ffe83ad932438cd83ed96aebaf"
      }
    },
    "colab": {
      "provenance": []
    }
  },
  "nbformat": 4,
  "nbformat_minor": 5
}