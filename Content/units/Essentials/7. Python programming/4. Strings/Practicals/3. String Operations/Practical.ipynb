{
  "cells": [
    {
      "cell_type": "markdown",
      "metadata": {
        "id": "sHPNtpfEZZ95"
      },
      "source": [
        "# String Operations"
      ]
    },
    {
      "cell_type": "code",
      "execution_count": 1,
      "metadata": {
        "id": "0a7799cb",
        "outputId": "fbdcd521-6f10-4208-a554-ea6b43e2bff7",
        "colab": {
          "base_uri": "https://localhost:8080/"
        }
      },
      "outputs": [
        {
          "output_type": "stream",
          "name": "stdout",
          "text": [
            "Downloading the marking system\n"
          ]
        }
      ],
      "source": [
        "#@title ### Run the following cell to download the necessary files for this practical { display-mode: \"form\" }\n",
        "#@markdown Don't worry about what's in this collapsed cell\n",
        "\n",
        "print('Downloading the marking system')\n",
        "!wget https://s3-eu-west-1.amazonaws.com/aicore-portal-public-prod-307050600709/practical_files/40718403-5192-4021-a5bf-ebded753cab5/marking_system.py -q -O marking_system.py\n",
        "import marking_system\n",
        "import importlib\n",
        "importlib.reload(marking_system)\n",
        "import sys\n",
        "ipython = get_ipython()\n",
        "def hide_traceback(exc_tuple=None, filename=None, tb_offset=None, exception_only=False, running_compiled_code=False):\n",
        "    etype, value, tb = sys.exc_info()\n",
        "    value.__cause__ = None  # suppress chained exceptions\n",
        "    return ipython._showtraceback(etype, \"❌ \" + f\"\u001b[91m{value}\", ipython.InteractiveTB.get_exception_only(etype, \"❌ \" + f\"\u001b[91m{value}\"))\n",
        "ipython.showtraceback = hide_traceback\n"
      ]
    },
    {
      "cell_type": "markdown",
      "metadata": {
        "id": "daDLU6V6ZZ9-"
      },
      "source": [
        "## Adding Strings\n",
        "\n",
        "Strings can be added together using the `+` operator.\n",
        "\n",
        "- Create two strings called `string_1` and `string_2`. Assign the value `\"Hello \"` to `string_1` and the value `\"World!\"` to `string_2`.\n",
        "- Add the two strings together and assign them to a variable called `string_3`.\n",
        "- Print `string_3`."
      ]
    },
    {
      "cell_type": "code",
      "execution_count": 8,
      "metadata": {
        "id": "HWjkOxuhZZ9-",
        "outputId": "e5976746-b0bf-470b-8b2f-aa4c269679b4",
        "colab": {
          "base_uri": "https://localhost:8080/"
        }
      },
      "outputs": [
        {
          "output_type": "stream",
          "name": "stdout",
          "text": [
            "Hello World!\n"
          ]
        }
      ],
      "source": [
        "# TODO -  Create a variable called `string_1` - assign it a value of \"Hello \"\n",
        "# TODO -  Create a variable called `string_2` - assign it a value of \"World!\"\n",
        "# TODO - Add `string_1` and `string_2`\n",
        "# TODO - Print `string_3`\n",
        "string_1 = \"Hello \"\n",
        "string_2 = \"World!\"\n",
        "string_3 = string_1 +string_2\n",
        "print(string_3)\n"
      ]
    },
    {
      "cell_type": "code",
      "execution_count": 9,
      "metadata": {
        "id": "yFuzcf-ZZZ9_",
        "outputId": "9f028b40-26c0-433a-e9cc-f337a54afdbe",
        "colab": {
          "base_uri": "https://localhost:8080/"
        }
      },
      "outputs": [
        {
          "output_type": "stream",
          "name": "stdout",
          "text": [
            "\u001b[92m✔ Well done! You have successfully assigned the strings 'Hello ', 'World!' and 'Hello World!' to the variables 'string_1', 'string_2' and 'string_3'.\n"
          ]
        }
      ],
      "source": [
        "#@title #### Run this cell to check your solution { display-mode: \"form\", run: \"auto\" }\n",
        "\n",
        "assert \"string_1\" in globals(), \"The variable 'string_1' has not been created.\"\n",
        "assert \"string_2\" in globals(), \"The variable 'string_2' has not been created.\"\n",
        "assert \"string_3\" in globals(), \"The variable 'string_3' has not been created.\"\n",
        "marking_system.check_step_1(string_1, string_2, string_3)\n"
      ]
    },
    {
      "cell_type": "markdown",
      "metadata": {
        "id": "BpTKE1GhZZ9_"
      },
      "source": [
        "### Slicing Strings\n",
        "\n",
        "An extension of the idea of indexing a string is slicing. Slicing allows us to select a range of values from a string, based on their indices:"
      ]
    },
    {
      "cell_type": "code",
      "execution_count": 17,
      "metadata": {
        "id": "hOGxKeY9ZZ9_",
        "outputId": "bb4b080e-b2f9-44b5-b694-c014a3a884b0",
        "colab": {
          "base_uri": "https://localhost:8080/"
        }
      },
      "outputs": [
        {
          "output_type": "stream",
          "name": "stdout",
          "text": [
            "the first three characters of my string are: \n",
            "one\n",
            "the last two characters are:\n",
            "ee\n",
            "the 4th to 7th characters of the string are:\n",
            " two\n"
          ]
        }
      ],
      "source": [
        "my_string = \"one two three\"\n",
        "print('the first three characters of my string are:', '\\n' + my_string[:3])\n",
        "# TODO - print the 4th to 7th characters of the string\n",
        "print('the last two characters are:' '\\n' + my_string[-2:])\n",
        "print('the 4th to 7th characters of the string are:' '\\n' + my_string[3:7])"
      ]
    },
    {
      "cell_type": "code",
      "execution_count": 16,
      "metadata": {
        "id": "i6BvhnvwZZ-A",
        "outputId": "83eb151e-d8e2-4f66-c919-2cdb4a949e71",
        "colab": {
          "base_uri": "https://localhost:8080/"
        }
      },
      "outputs": [
        {
          "output_type": "stream",
          "name": "stdout",
          "text": [
            "\u001b[92m✔ Well done! Indices in Python start at 0, so the 4th character is at index 3. On the other hand, the second index in the slicing is not included, so you have to include the index of the last character you want to get.\n"
          ]
        }
      ],
      "source": [
        "#@title #### Enter your solution here { display-mode: \"form\", run: \"auto\" }\n",
        "assert \"my_string\" in globals(), \"The variable 'my_string' has not been created. Make sure you haven't deleted it. If so, the value should be 'one two three'.\"\n",
        "#@markdown What indices did you use to print the 4th to 7th characters of the string?\n",
        "index_1 = 3 #@param [2, 3, 4, 5, 6, 7, 8, 9] {type: \"number\"}\n",
        "index_2 = 7 #@param [2, 3, 4, 5, 6, 7, 8, 9] {type: \"number\"}\n",
        "marking_system.check_step_2(index_1, index_2, my_string)\n"
      ]
    },
    {
      "cell_type": "markdown",
      "metadata": {
        "id": "Od3BcLxQZZ-A"
      },
      "source": [
        "### Updating a string\n",
        "\n",
        "You can change part of the content of a string by adding part of string_1 to a new substring, and assigning the new string to the old variable. For example in the code block below, we replace the word `\"World\"` with `\"Crab\"`. You may remember that strings are `immutable`, so you can't just reassign the letters by indexing them. This is the way around that constraint."
      ]
    },
    {
      "cell_type": "code",
      "execution_count": 18,
      "metadata": {
        "id": "m0B8-Dn6ZZ-A",
        "outputId": "0bba7a57-88b7-4dba-b899-dddd2d9374f5",
        "colab": {
          "base_uri": "https://localhost:8080/"
        }
      },
      "outputs": [
        {
          "output_type": "stream",
          "name": "stdout",
          "text": [
            "Hello Crab!\n"
          ]
        }
      ],
      "source": [
        "string_1 = \"Hello World!\"\n",
        "string_2 = \"Crab!\"\n",
        "string_1 = string_1[:6] + string_2\n",
        "print(string_1)\n"
      ]
    },
    {
      "cell_type": "markdown",
      "metadata": {
        "id": "0dftMZJmZZ-B"
      },
      "source": [
        "In the code block below, replace the word \"large\" with the word \"small\" in the string, and print the string."
      ]
    },
    {
      "cell_type": "code",
      "execution_count": 19,
      "metadata": {
        "id": "xwCp6umEZZ-B",
        "outputId": "bd14e0e9-a24d-428a-f0bc-5f6081739046",
        "colab": {
          "base_uri": "https://localhost:8080/"
        }
      },
      "outputs": [
        {
          "output_type": "stream",
          "name": "stdout",
          "text": [
            "Wow, what a large horse!\n",
            "Wow, what a small horse!\n"
          ]
        }
      ],
      "source": [
        "sentence_1 = 'Wow, what a large horse!'\n",
        "substring_1 = \"small\"\n",
        "# TODO - Replace \"large\" with \"small\" in the sentence\n",
        "print(sentence_1)\n",
        "sentence_1 = 'Wow, what a large horse!'\n",
        "substring_1 = \"small\"\n",
        "# Replace \"large\" with \"small\" in the sentence\n",
        "modified_sentence = sentence_1.replace(\"large\", substring_1)\n",
        "print(modified_sentence)\n"
      ]
    },
    {
      "cell_type": "markdown",
      "metadata": {
        "id": "-AfgMduTZZ-B"
      },
      "source": [
        "## Splitting strings\n",
        "\n",
        "We can split strings on a given character value using the `.split()` method. Try splitting up this filepath into drive, folder and filename.\n",
        " -  Call `my_filepath`'s  `.split` method and assign the output to a variable called `my_file_structure`.\n",
        " -  print `my_file_structure`.\n",
        "\n",
        "The variable created is called a `list`. You will learn a lot more about lists later, but for now, you just need to know that they can be indexed, just like strings.\n",
        "\n",
        "- print just the filename, `cow.jpg`"
      ]
    },
    {
      "cell_type": "code",
      "execution_count": 25,
      "metadata": {
        "id": "czjWNkm3ZZ-B",
        "outputId": "f3c683e7-0b58-467f-b96a-fa34a8f24b28",
        "colab": {
          "base_uri": "https://localhost:8080/"
        }
      },
      "outputs": [
        {
          "output_type": "stream",
          "name": "stdout",
          "text": [
            "['C:', 'Images', 'cow.jpg']\n",
            "cow.jpg\n"
          ]
        }
      ],
      "source": [
        "my_filepath = \"C:/Images/cow.jpg\"\n",
        "# TODO  Call `my_filepath`'s  `.split` method and assign the output to a variable called `my_file_structure`.\n",
        "# TODO - print `my_file_structure`\n",
        "# TODO - print just the filename\n",
        "my_file_structure = my_filepath.split(\"/\")\n",
        "print(my_file_structure)\n",
        "print(\"cow.jpg\")\n"
      ]
    },
    {
      "cell_type": "code",
      "execution_count": 26,
      "metadata": {
        "id": "7iN5QVvKZZ-B",
        "outputId": "a1fe0504-ef9f-4389-f05b-f011387c0731",
        "colab": {
          "base_uri": "https://localhost:8080/"
        }
      },
      "outputs": [
        {
          "output_type": "stream",
          "name": "stdout",
          "text": [
            "\u001b[92m✔ Well done! You have successfully used the split() method and got the right answers for the length and the index of the filename.\n"
          ]
        }
      ],
      "source": [
        "#@title #### Enter your solution here { display-mode: \"form\", run: \"auto\" }\n",
        "assert \"my_file_structure\" in globals(), \"The variable 'my_file_structure' has not been created. Make sure you haven't deleted it. If so, the value should be 'C:/Images/cow.jpg'.\"\n",
        "#@markdown How many elements are in `my_file_structure`?\n",
        "ans_1 = 3 #@param [0, 1, 2, 3, 4, 5] {type: \"number\"}\n",
        "#@markdown What is the index of the filename in `my_file_structure`?\n",
        "ans_2 = 2 #@param [0, 1, 2, 3, 4, 5] {type: \"number\"}\n",
        "marking_system.check_step_3(my_file_structure, ans_1, ans_2)\n"
      ]
    }
  ],
  "metadata": {
    "kernelspec": {
      "display_name": "content-projects_new",
      "language": "python",
      "name": "python3"
    },
    "language_info": {
      "codemirror_mode": {
        "name": "ipython",
        "version": 3
      },
      "file_extension": ".py",
      "mimetype": "text/x-python",
      "name": "python",
      "nbconvert_exporter": "python",
      "pygments_lexer": "ipython3",
      "version": "3.10.8"
    },
    "vscode": {
      "interpreter": {
        "hash": "4b961f8166aad6ccb4cf65d0f9c742ef9c6c23ffe83ad932438cd83ed96aebaf"
      }
    },
    "colab": {
      "provenance": []
    }
  },
  "nbformat": 4,
  "nbformat_minor": 0
}