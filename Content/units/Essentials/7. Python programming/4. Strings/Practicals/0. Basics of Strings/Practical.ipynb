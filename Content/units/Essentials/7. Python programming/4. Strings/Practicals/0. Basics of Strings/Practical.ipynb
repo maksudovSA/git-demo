{
  "cells": [
    {
      "cell_type": "markdown",
      "id": "d01eaeda",
      "metadata": {
        "id": "d01eaeda"
      },
      "source": [
        "# Basics of Strings\n",
        "\n",
        "In Python, a string variable type is a sequence of characters enclosed within either single or double quotes. It is a fundamental data type used to represent text data."
      ]
    },
    {
      "cell_type": "code",
      "execution_count": 1,
      "id": "db388542",
      "metadata": {
        "id": "db388542",
        "outputId": "ab527924-0fb0-4ecf-c063-4692130bf107",
        "colab": {
          "base_uri": "https://localhost:8080/"
        }
      },
      "outputs": [
        {
          "output_type": "stream",
          "name": "stdout",
          "text": [
            "Downloading the marking system\n"
          ]
        }
      ],
      "source": [
        "#@title ### Run the following cell to download the necessary files for this practical { display-mode: \"form\" }\n",
        "#@markdown Don't worry about what's in this collapsed cell\n",
        "\n",
        "print('Downloading the marking system')\n",
        "!wget https://s3-eu-west-1.amazonaws.com/aicore-portal-public-prod-307050600709/practical_files/a6c1a8f2-905c-4e05-99a8-c0ded723ed5e/marking_system.py -q -O marking_system.py\n",
        "import marking_system\n",
        "import importlib\n",
        "importlib.reload(marking_system)\n",
        "import sys\n",
        "ipython = get_ipython()\n",
        "def hide_traceback(exc_tuple=None, filename=None, tb_offset=None, exception_only=False, running_compiled_code=False):\n",
        "    etype, value, tb = sys.exc_info()\n",
        "    value.__cause__ = None  # suppress chained exceptions\n",
        "    return ipython._showtraceback(etype, \"❌ \" + f\"\u001b[91m{value}\", ipython.InteractiveTB.get_exception_only(etype, \"❌ \" + f\"\u001b[91m{value}\"))\n",
        "ipython.showtraceback = hide_traceback\n"
      ]
    },
    {
      "cell_type": "markdown",
      "id": "839c0a7d",
      "metadata": {
        "id": "839c0a7d"
      },
      "source": [
        "### 1. Create a variable called `my_string` and assign it the value `\"Hello World\"`."
      ]
    },
    {
      "cell_type": "code",
      "execution_count": 2,
      "id": "28ff9bb1",
      "metadata": {
        "id": "28ff9bb1"
      },
      "outputs": [],
      "source": [
        "# TODO - Create a variable called `my_string` and assign it the value \"Hello World\"\n",
        "my_string = \"Hello World\""
      ]
    },
    {
      "cell_type": "code",
      "execution_count": 3,
      "id": "000f4399",
      "metadata": {
        "id": "000f4399",
        "outputId": "1c64bcab-ce72-4433-f34e-30ff66a2a350",
        "colab": {
          "base_uri": "https://localhost:8080/"
        }
      },
      "outputs": [
        {
          "output_type": "stream",
          "name": "stdout",
          "text": [
            "\u001b[92m✔ Well done! You have successfully assigned the string 'Hello World' to the variable 'my_string'.\n"
          ]
        }
      ],
      "source": [
        "#@title #### Run this cell to check your solution { display-mode: \"form\", run: \"auto\" }\n",
        "\n",
        "assert \"my_string\" in globals(), \"You haven't defined the variable 'my_string'.\"\n",
        "marking_system.check_step_1(my_string)\n"
      ]
    },
    {
      "cell_type": "markdown",
      "id": "b4f7ac5b",
      "metadata": {
        "id": "b4f7ac5b"
      },
      "source": [
        "### 2. Print the value of `my_string`.\n"
      ]
    },
    {
      "cell_type": "code",
      "execution_count": 4,
      "id": "a5671b88",
      "metadata": {
        "id": "a5671b88",
        "outputId": "c9aef41f-00c9-4404-cc32-53239531d02c",
        "colab": {
          "base_uri": "https://localhost:8080/"
        }
      },
      "outputs": [
        {
          "output_type": "stream",
          "name": "stdout",
          "text": [
            "Hello World\n"
          ]
        }
      ],
      "source": [
        "# TODO - Print the value of `my_string`\n",
        "print(my_string)"
      ]
    },
    {
      "cell_type": "markdown",
      "source": [],
      "metadata": {
        "id": "_imYUVzMTAOB"
      },
      "id": "_imYUVzMTAOB"
    },
    {
      "cell_type": "code",
      "execution_count": 5,
      "id": "e5711a19",
      "metadata": {
        "id": "e5711a19",
        "outputId": "37f0e5ba-d8a1-4184-ab3a-eb766c9cda45",
        "colab": {
          "base_uri": "https://localhost:8080/"
        }
      },
      "outputs": [
        {
          "output_type": "stream",
          "name": "stdout",
          "text": [
            "\u001b[92m✔ Well done! You have successfully printed the value of the variable 'my_string'.\n"
          ]
        }
      ],
      "source": [
        "#@title #### Copy and paste your line of code in this form to check your solution { display-mode: \"form\", run: \"auto\" }\n",
        "\n",
        "your_code = \"print(my_string)\" #@param {type:\"string\"}\n",
        "marking_system.check_step_2(your_code=your_code)\n"
      ]
    },
    {
      "cell_type": "markdown",
      "id": "4ade9d59",
      "metadata": {
        "id": "4ade9d59"
      },
      "source": [
        "### 3. Print the type of `my_string`."
      ]
    },
    {
      "cell_type": "code",
      "execution_count": 7,
      "id": "9f12b65d",
      "metadata": {
        "id": "9f12b65d",
        "outputId": "408d8cba-13f5-436d-bf06-9e85c6b29e41",
        "colab": {
          "base_uri": "https://localhost:8080/"
        }
      },
      "outputs": [
        {
          "output_type": "stream",
          "name": "stdout",
          "text": [
            "<class 'str'>\n"
          ]
        }
      ],
      "source": [
        "# TODO - Print the type of `my_string`\n",
        "print(type(my_string))"
      ]
    },
    {
      "cell_type": "code",
      "execution_count": 8,
      "id": "22d73e4d",
      "metadata": {
        "id": "22d73e4d",
        "outputId": "0de71043-bbdd-4e1a-cd8e-bccb73afb111",
        "colab": {
          "base_uri": "https://localhost:8080/"
        }
      },
      "outputs": [
        {
          "output_type": "stream",
          "name": "stdout",
          "text": [
            "\u001b[92m✔ Well done! You have successfully printed the type of the variable 'my_string'.\n"
          ]
        }
      ],
      "source": [
        "#@title #### Copy and paste your line of code in this form to check your solution { display-mode: \"form\", run: \"auto\" }\n",
        "\n",
        "your_code = \"print(type(my_string))\" #@param {type:\"string\"}\n",
        "marking_system.check_step_3(your_code=your_code)\n"
      ]
    },
    {
      "cell_type": "markdown",
      "id": "ace4d606",
      "metadata": {
        "id": "ace4d606"
      },
      "source": [
        "## Escaped Characters can perform special functions\n",
        "\n",
        "The escape character(`\\`) is a special character used to indicate that the following character should be treated differently. it is followed by a character or a sequence of characters that have a special meaning in the context of the string.\n",
        "\n",
        "There are two main uses of `\\` :\n",
        "- to denote that the next character should have a special meaning, eg. `\\n` to create a newline.\n",
        "- to prevent a character that usually has a special function from having that function, eg. `\\\"`"
      ]
    },
    {
      "cell_type": "markdown",
      "id": "df24e3df",
      "metadata": {
        "id": "df24e3df"
      },
      "source": [
        "#### 1. Create a variable called `my_string` and assign it the value `\"Hello \\nWorld\"`"
      ]
    },
    {
      "cell_type": "code",
      "execution_count": 9,
      "id": "f0b4bf94",
      "metadata": {
        "id": "f0b4bf94"
      },
      "outputs": [],
      "source": [
        "# TODO - Create a variable called `my_string` and assign it the value \"Hello \\nWorld\".\n",
        "my_string = \"Hello \\nWorld\""
      ]
    },
    {
      "cell_type": "code",
      "execution_count": 10,
      "id": "5a054c79",
      "metadata": {
        "id": "5a054c79",
        "outputId": "687f2099-aafb-476b-ef35-ec07be37a305",
        "colab": {
          "base_uri": "https://localhost:8080/"
        }
      },
      "outputs": [
        {
          "output_type": "stream",
          "name": "stdout",
          "text": [
            "\u001b[92m✔ Well done! You have successfully assigned the string 'Hello \\nWorld' to the variable 'my_string'.\n"
          ]
        }
      ],
      "source": [
        "#@title #### Run this cell to check your solution { display-mode: \"form\", run: \"auto\" }\n",
        "\n",
        "assert \"my_string\" in globals(), \"You haven't defined the variable 'my_string'.\"\n",
        "marking_system.check_step_4(my_string)\n"
      ]
    },
    {
      "cell_type": "markdown",
      "id": "4a22f333",
      "metadata": {
        "id": "4a22f333"
      },
      "source": [
        "#### 2. Print the value of `my_string`\n",
        "\n",
        "The \"\\n\" is a special character that tells Python to start a new line."
      ]
    },
    {
      "cell_type": "code",
      "execution_count": 11,
      "id": "5c2a055e",
      "metadata": {
        "id": "5c2a055e",
        "outputId": "8158fe98-1495-4cc2-cc99-ccbe7a47ca37",
        "colab": {
          "base_uri": "https://localhost:8080/"
        }
      },
      "outputs": [
        {
          "output_type": "stream",
          "name": "stdout",
          "text": [
            "Hello \n",
            "World\n"
          ]
        }
      ],
      "source": [
        "# TODO - Print the value of my_string.\n",
        "print(my_string)\n"
      ]
    },
    {
      "cell_type": "markdown",
      "id": "066bde31",
      "metadata": {
        "id": "066bde31"
      },
      "source": [
        "#### 3. Create a variable called `my_string` and assign it the value `\"Hello \\tWorld\"`"
      ]
    },
    {
      "cell_type": "code",
      "execution_count": 12,
      "id": "d054e13b",
      "metadata": {
        "id": "d054e13b"
      },
      "outputs": [],
      "source": [
        "# TODO - Create a variable called `my_string` and assign it the value \"Hello \\tWorld\".\n",
        "my_string = \"Hello \\tWorld\""
      ]
    },
    {
      "cell_type": "code",
      "execution_count": 13,
      "id": "282bccb4",
      "metadata": {
        "id": "282bccb4",
        "outputId": "063e5a91-6bd3-46fa-a1f6-c9f492c410f7",
        "colab": {
          "base_uri": "https://localhost:8080/"
        }
      },
      "outputs": [
        {
          "output_type": "stream",
          "name": "stdout",
          "text": [
            "\u001b[92m✔ Well done! You have successfully assigned the string 'Hello \\tWorld' to the variable 'my_string'.\n"
          ]
        }
      ],
      "source": [
        "#@title #### Run this cell to check your solution { display-mode: \"form\", run: \"auto\" }\n",
        "\n",
        "assert \"my_string\" in globals(), \"You haven't defined the variable 'my_string'.\"\n",
        "marking_system.check_step_5(my_string)\n"
      ]
    },
    {
      "cell_type": "markdown",
      "id": "5f13eae2",
      "metadata": {
        "id": "5f13eae2"
      },
      "source": [
        "#### 4. Print the value of `my_string`\n",
        "\n",
        "The \"\\t\" is a special character that tells Python to start a new tab."
      ]
    },
    {
      "cell_type": "code",
      "execution_count": 14,
      "id": "cccaaebf",
      "metadata": {
        "id": "cccaaebf",
        "outputId": "1dce53a2-e28d-4a7a-f1e0-2ac71450da0d",
        "colab": {
          "base_uri": "https://localhost:8080/"
        }
      },
      "outputs": [
        {
          "output_type": "stream",
          "name": "stdout",
          "text": [
            "Hello \tWorld\n"
          ]
        }
      ],
      "source": [
        "# TODO - Print the value of my_string.\n",
        "print(my_string)"
      ]
    }
  ],
  "metadata": {
    "kernelspec": {
      "display_name": "content-projects_new",
      "language": "python",
      "name": "python3"
    },
    "language_info": {
      "codemirror_mode": {
        "name": "ipython",
        "version": 3
      },
      "file_extension": ".py",
      "mimetype": "text/x-python",
      "name": "python",
      "nbconvert_exporter": "python",
      "pygments_lexer": "ipython3",
      "version": "3.11.0"
    },
    "vscode": {
      "interpreter": {
        "hash": "4b961f8166aad6ccb4cf65d0f9c742ef9c6c23ffe83ad932438cd83ed96aebaf"
      }
    },
    "colab": {
      "provenance": []
    }
  },
  "nbformat": 4,
  "nbformat_minor": 5
}