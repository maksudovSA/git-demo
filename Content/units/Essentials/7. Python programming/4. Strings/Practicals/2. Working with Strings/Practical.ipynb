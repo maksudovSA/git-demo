{
  "cells": [
    {
      "cell_type": "markdown",
      "metadata": {
        "id": "gpdmnYIKSw1m"
      },
      "source": [
        "# Working with Strings"
      ]
    },
    {
      "cell_type": "code",
      "execution_count": 1,
      "metadata": {
        "id": "23880376",
        "outputId": "3df906b0-c46d-44bd-d47e-6a07887c7e0f",
        "colab": {
          "base_uri": "https://localhost:8080/"
        }
      },
      "outputs": [
        {
          "output_type": "stream",
          "name": "stdout",
          "text": [
            "Downloading the marking system\n"
          ]
        }
      ],
      "source": [
        "#@title ### Run the following cell to download the necessary files for this practical { display-mode: \"form\" }\n",
        "#@markdown Don't worry about what's in this collapsed cell\n",
        "\n",
        "print('Downloading the marking system')\n",
        "!wget https://s3-eu-west-1.amazonaws.com/aicore-portal-public-prod-307050600709/practical_files/cd0ca448-662b-4b28-ba5f-57c381565db5/marking_system.py -q -O marking_system.py\n",
        "import marking_system\n",
        "import importlib\n",
        "importlib.reload(marking_system)\n",
        "import sys\n",
        "ipython = get_ipython()\n",
        "def hide_traceback(exc_tuple=None, filename=None, tb_offset=None, exception_only=False, running_compiled_code=False):\n",
        "    etype, value, tb = sys.exc_info()\n",
        "    value.__cause__ = None  # suppress chained exceptions\n",
        "    return ipython._showtraceback(etype, \"❌ \" + f\"\u001b[91m{value}\", ipython.InteractiveTB.get_exception_only(etype, \"❌ \" + f\"\u001b[91m{value}\"))\n",
        "ipython.showtraceback = hide_traceback\n"
      ]
    },
    {
      "cell_type": "markdown",
      "metadata": {
        "id": "TmJgMQRqSw1r"
      },
      "source": [
        "## Strings are iterable\n",
        "\n",
        "Strings, like many other `Python` variables, are iterable, which means we can index their individual elements. In the case of strings, the elements are the characters of the string.\n",
        "\n",
        "- In the code block below, create a variable called `test_string` and assign it the value `\"hello\"`.\n",
        "- Now try to select the 2nd character of the string, which should be `e`. Assign the result to a variable called `second_char`.\n"
      ]
    },
    {
      "cell_type": "code",
      "execution_count": 3,
      "metadata": {
        "id": "SaP61YF_Sw1r"
      },
      "outputs": [],
      "source": [
        "# TODO - Create a variable called `test_string` and assign it the value \"hello\".\n",
        "# TODO - Select the 2nd character of the string. Assign it to a variable called `second_char`.\n",
        "test_string = \"hello\"\n",
        "second_char = \"e\""
      ]
    },
    {
      "cell_type": "code",
      "execution_count": 4,
      "metadata": {
        "id": "B5mxt7EnSw1s",
        "outputId": "afa8105a-dfd2-448e-c8ca-fbc1319ccd48",
        "colab": {
          "base_uri": "https://localhost:8080/"
        }
      },
      "outputs": [
        {
          "output_type": "stream",
          "name": "stdout",
          "text": [
            "\u001b[92m✔ Well done! You have successfully assigned the string 'hello' to the variable 'test_string'.\n"
          ]
        }
      ],
      "source": [
        "#@title #### Run this cell to check your solution { display-mode: \"form\", run: \"auto\" }\n",
        "\n",
        "assert \"test_string\" in globals(), \"You haven't defined the variable 'test_string'.\"\n",
        "assert \"second_char\" in globals(), \"You haven't defined the variable 'second_char'.\"\n",
        "marking_system.check_step_1(test_string, second_char)\n"
      ]
    },
    {
      "cell_type": "markdown",
      "metadata": {
        "id": "TTLnhOdlSw1s"
      },
      "source": [
        "We can also do this the other way around, using the `.index()` method. The index is the location of an element in a string. As with other variables, the first element has index 0.\n",
        "\n",
        "Find the index of the letter `e` in `test_string`:"
      ]
    },
    {
      "cell_type": "code",
      "execution_count": 6,
      "metadata": {
        "id": "v081-EwLSw1s",
        "outputId": "ec66d060-250d-4a70-ab60-ea727cd6108e",
        "colab": {
          "base_uri": "https://localhost:8080/"
        }
      },
      "outputs": [
        {
          "output_type": "stream",
          "name": "stdout",
          "text": [
            "1\n"
          ]
        }
      ],
      "source": [
        "# TODO - Find the index of the letter `e` in `test_string`\n",
        "print(test_string.index(\"e\"))"
      ]
    },
    {
      "cell_type": "code",
      "execution_count": 7,
      "metadata": {
        "id": "oo2gsW6ASw1t",
        "outputId": "a40ee68b-3bac-4de5-e07d-2a5b9e05717f",
        "colab": {
          "base_uri": "https://localhost:8080/"
        }
      },
      "outputs": [
        {
          "output_type": "stream",
          "name": "stdout",
          "text": [
            "\u001b[92m✔ Well done! The index of 'e' in the string 'hello' is 1. Remember that Python starts counting from 0.\n"
          ]
        }
      ],
      "source": [
        "#@title #### Enter your solution here { display-mode: \"form\", run: \"auto\" }\n",
        "\n",
        "#@markdown What is the index of the letter `e` in `test_string`?\n",
        "ans = \"1\" #@param [\"0\", \"1\", \"2\", \"3\", \"4\"] {allow-input: true}\n",
        "marking_system.check_step_2(ans)\n"
      ]
    },
    {
      "cell_type": "markdown",
      "metadata": {
        "id": "ab7QnI6rSw1t"
      },
      "source": [
        "## Replacing elements in strings.\n",
        "\n",
        "Strings are immutable, which means we can't just use indexing to replace an element. You might think that the code below would allow us to replace the `e` in \"hello\" with a `*`. Run the code block below to see if it works.\n"
      ]
    },
    {
      "cell_type": "code",
      "execution_count": 8,
      "metadata": {
        "id": "xgawPwpcSw1t",
        "outputId": "dc674c36-a7f1-4e21-b3e4-1a63e1447098",
        "colab": {
          "base_uri": "https://localhost:8080/",
          "height": 88
        }
      },
      "outputs": [
        {
          "output_type": "error",
          "ename": "TypeError",
          "evalue": "ignored",
          "traceback": [
            "\u001b[0;31mTypeError\u001b[0m\u001b[0;31m:\u001b[0m ❌ \u001b[91m'str' object does not support item assignment\n"
          ]
        }
      ],
      "source": [
        "s =\"hello\"\n",
        "s[1]=\"*\"\n"
      ]
    },
    {
      "cell_type": "markdown",
      "metadata": {
        "id": "CINt2orNSw1u"
      },
      "source": [
        "To get around this, we can quickly replace all the elements in a string using the `.replace` method.\n",
        "\n",
        "Replace all the `o` characters with `*` in the following string."
      ]
    },
    {
      "cell_type": "code",
      "execution_count": 10,
      "metadata": {
        "id": "T37AfYkPSw1u",
        "outputId": "290b5c69-60ba-4ba1-91af-ff1fde106afe",
        "colab": {
          "base_uri": "https://localhost:8080/",
          "height": 36
        }
      },
      "outputs": [
        {
          "output_type": "execute_result",
          "data": {
            "text/plain": [
              "'The quick br*wn f*x jumps *ver the lazy d*g'"
            ],
            "application/vnd.google.colaboratory.intrinsic+json": {
              "type": "string"
            }
          },
          "metadata": {},
          "execution_count": 10
        }
      ],
      "source": [
        "s = \"The quick brown fox jumps over the lazy dog\"\n",
        "# TODO: Use the appropriate method to replace all occurrences of \"o\" with \"*\"\n",
        "s.replace(\"o\" , \"*\")"
      ]
    },
    {
      "cell_type": "code",
      "execution_count": 11,
      "metadata": {
        "id": "8T9RbOa8Sw1u",
        "outputId": "085115f0-82c1-446b-b225-710c82e5c730",
        "colab": {
          "base_uri": "https://localhost:8080/"
        }
      },
      "outputs": [
        {
          "output_type": "stream",
          "name": "stdout",
          "text": [
            "\u001b[92m✔ Well done! You have successfully changed the 'o' characters in the string 's'.\n"
          ]
        }
      ],
      "source": [
        "#@title #### Enter your solution here { display-mode: \"form\", run: \"auto\" }\n",
        "\n",
        "assert \"s\" in globals(), \"You haven't defined the variable 's'. Please, run the cell above.\"\n",
        "marking_system.check_step_3(s)\n"
      ]
    },
    {
      "cell_type": "markdown",
      "metadata": {
        "id": "2Y1qY-K0Sw1u"
      },
      "source": [
        "## Finding the length of a string\n",
        "\n",
        "We can find the length of a string using it's `len()` function.\n",
        "\n",
        "- Write a sentence and assign it to the variable `my_sentence`.\n",
        "- Find the length of `my_sentence`."
      ]
    },
    {
      "cell_type": "code",
      "execution_count": 13,
      "metadata": {
        "id": "jZNlpp5JSw1u",
        "outputId": "5d78f367-25aa-4ca7-847c-b982bef28ac3",
        "colab": {
          "base_uri": "https://localhost:8080/"
        }
      },
      "outputs": [
        {
          "output_type": "execute_result",
          "data": {
            "text/plain": [
              "24"
            ]
          },
          "metadata": {},
          "execution_count": 13
        }
      ],
      "source": [
        "# TODO: Write a sentence with more than 20 characters and assign it to the variable `my_sentence`.\n",
        "# TODO: Find the length of `my_sentence`\n",
        "my_sentence = \"I will acheieve my goals\"\n",
        "len(my_sentence)"
      ]
    },
    {
      "cell_type": "code",
      "execution_count": 14,
      "metadata": {
        "id": "dvHve5VqSw1u",
        "outputId": "559dabf6-d392-48cb-8dc9-7a10f9ed1ec0",
        "colab": {
          "base_uri": "https://localhost:8080/"
        }
      },
      "outputs": [
        {
          "output_type": "stream",
          "name": "stdout",
          "text": [
            "\u001b[92m✔ Well done! You have successfully calculated the length of the string 'my_sentence'.\n"
          ]
        }
      ],
      "source": [
        "#@title #### Run this cell to check your solution { display-mode: \"form\", run: \"auto\" }\n",
        "\n",
        "assert \"my_sentence\" in globals(), \"You haven't defined the variable 'my_sentence'.\"\n",
        "#@markdown What is the length of your variable `my_sentence`?\n",
        "sentence_length = 24  #@param {type: \"number\"}\n",
        "marking_system.check_step_4(my_sentence, sentence_length)\n"
      ]
    }
  ],
  "metadata": {
    "kernelspec": {
      "display_name": "content-projects_new",
      "language": "python",
      "name": "python3"
    },
    "language_info": {
      "codemirror_mode": {
        "name": "ipython",
        "version": 3
      },
      "file_extension": ".py",
      "mimetype": "text/x-python",
      "name": "python",
      "nbconvert_exporter": "python",
      "pygments_lexer": "ipython3",
      "version": "3.10.8"
    },
    "vscode": {
      "interpreter": {
        "hash": "4b961f8166aad6ccb4cf65d0f9c742ef9c6c23ffe83ad932438cd83ed96aebaf"
      }
    },
    "colab": {
      "provenance": []
    }
  },
  "nbformat": 4,
  "nbformat_minor": 0
}