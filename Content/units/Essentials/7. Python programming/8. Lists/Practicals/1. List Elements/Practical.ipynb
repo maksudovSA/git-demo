{
  "cells": [
    {
      "cell_type": "markdown",
      "id": "9334fd08",
      "metadata": {
        "id": "9334fd08"
      },
      "source": [
        "# List Elements"
      ]
    },
    {
      "cell_type": "code",
      "execution_count": 1,
      "id": "bd609b9e",
      "metadata": {
        "id": "bd609b9e",
        "outputId": "402c3370-dbcc-46cb-fba7-78f899ea35f4",
        "colab": {
          "base_uri": "https://localhost:8080/"
        }
      },
      "outputs": [
        {
          "output_type": "stream",
          "name": "stdout",
          "text": [
            "Downloading the marking system\n"
          ]
        }
      ],
      "source": [
        "#@title ### Run the following cell to download the necessary files for this practical { display-mode: \"form\" }\n",
        "#@markdown Don't worry about what's in this collapsed cell\n",
        "\n",
        "print('Downloading the marking system')\n",
        "!wget https://s3-eu-west-1.amazonaws.com/aicore-portal-public-prod-307050600709/practical_files/27a4d374-5ed2-4e14-a54d-7879335e44b8/marking_system.py -q -O marking_system.py\n",
        "import marking_system\n",
        "import importlib\n",
        "importlib.reload(marking_system)\n",
        "import sys\n",
        "ipython = get_ipython()\n",
        "def hide_traceback(exc_tuple=None, filename=None, tb_offset=None, exception_only=False, running_compiled_code=False):\n",
        "    etype, value, tb = sys.exc_info()\n",
        "    value.__cause__ = None  # suppress chained exceptions\n",
        "    return ipython._showtraceback(etype, \"❌ \" + f\"\u001b[91m{value}\", ipython.InteractiveTB.get_exception_only(etype, \"❌ \" + f\"\u001b[91m{value}\"))\n",
        "ipython.showtraceback = hide_traceback\n"
      ]
    },
    {
      "cell_type": "markdown",
      "id": "dd1c39c8",
      "metadata": {
        "id": "dd1c39c8"
      },
      "source": [
        "#### 1. Create a list of four elements with a different data type. Name it `list_1`\n",
        "\n",
        "Each element should have a different data type. What data types have you used so far?"
      ]
    },
    {
      "cell_type": "code",
      "execution_count": 11,
      "id": "955228c4",
      "metadata": {
        "id": "955228c4"
      },
      "outputs": [],
      "source": [
        "# TODO - Create a list with 4 elements of different types\n",
        "list_1 = [1 , 'car' , True , 1.45]"
      ]
    },
    {
      "cell_type": "code",
      "execution_count": 12,
      "id": "eca14c81",
      "metadata": {
        "id": "eca14c81",
        "outputId": "d305bd36-f33c-41df-b52b-6a442bddca80",
        "colab": {
          "base_uri": "https://localhost:8080/"
        }
      },
      "outputs": [
        {
          "output_type": "stream",
          "name": "stdout",
          "text": [
            "\u001b[92m✔ Well done! You successfully created a list with four different data types.\n"
          ]
        }
      ],
      "source": [
        "#@title #### Run this cell to check your answer { display-mode: \"form\", run: \"auto\" }\n",
        "\n",
        "assert \"list_1\" in globals(), \"The variable 'list_1' does not exist. Please, create it.\"\n",
        "\n",
        "marking_system.check_step_1(list_1)\n"
      ]
    },
    {
      "cell_type": "markdown",
      "id": "0a489971",
      "metadata": {
        "id": "0a489971"
      },
      "source": [
        "#### 2. Now create a list with ten zeros, do it using the `*` operator. Name it `list_2`\n",
        "\n",
        "If you multiply a list by an integer, it will repeat the list that many times."
      ]
    },
    {
      "cell_type": "code",
      "execution_count": 16,
      "id": "cedd366e",
      "metadata": {
        "id": "cedd366e",
        "outputId": "eb3c1b5b-f42a-4bb7-f049-d56d50aa7e3d",
        "colab": {
          "base_uri": "https://localhost:8080/"
        }
      },
      "outputs": [
        {
          "output_type": "stream",
          "name": "stdout",
          "text": [
            "[0, 0, 0, 0, 0, 0, 0, 0, 0, 0]\n"
          ]
        }
      ],
      "source": [
        "# TODO - Create a list with 10 elements, all of which are 0\n",
        "list_2 = [0] * 10\n",
        "print(list_2)"
      ]
    },
    {
      "cell_type": "code",
      "execution_count": 17,
      "id": "27ebec92",
      "metadata": {
        "id": "27ebec92",
        "outputId": "114e7c46-0712-48bc-e417-b2b2444bf2f6",
        "colab": {
          "base_uri": "https://localhost:8080/"
        }
      },
      "outputs": [
        {
          "output_type": "stream",
          "name": "stdout",
          "text": [
            "\u001b[92m✔ Well done! You successfully created a list with ten zeros.\n"
          ]
        }
      ],
      "source": [
        "#@title #### Run this cell to check your answer { display-mode: \"form\", run: \"auto\" }\n",
        "\n",
        "assert \"list_2\" in globals(), \"The variable 'list_2' does not exist. Please, create it.\"\n",
        "\n",
        "marking_system.check_step_2(list_2)\n"
      ]
    },
    {
      "cell_type": "markdown",
      "id": "ef878c4f",
      "metadata": {
        "id": "ef878c4f"
      },
      "source": [
        "#### 3. Nest `list_1` and `list_2` into a new list and name it `list_3`.\n",
        "\n",
        "`list_3` should look like this `[list_1, list2]`"
      ]
    },
    {
      "cell_type": "code",
      "execution_count": 23,
      "id": "20953729",
      "metadata": {
        "id": "20953729",
        "outputId": "89cebba1-fc97-41a1-a61f-687dd4d66c57",
        "colab": {
          "base_uri": "https://localhost:8080/"
        }
      },
      "outputs": [
        {
          "output_type": "stream",
          "name": "stdout",
          "text": [
            "[[1, 'car', True, 1.45], [0, 0, 0, 0, 0, 0, 0, 0, 0, 0]]\n"
          ]
        }
      ],
      "source": [
        "# TODO - Create a list with two elements, list_1 and list_2\n",
        "list_3 = [list_1 , list_2]\n",
        "print(list_3)"
      ]
    },
    {
      "cell_type": "code",
      "execution_count": 24,
      "id": "1ca8bd95",
      "metadata": {
        "id": "1ca8bd95",
        "outputId": "639a22cf-cae4-4c33-d7fd-0bfe868e7056",
        "colab": {
          "base_uri": "https://localhost:8080/"
        }
      },
      "outputs": [
        {
          "output_type": "stream",
          "name": "stdout",
          "text": [
            "\u001b[92m✔ Well done! You successfully created a list with two elements: 'list_1' and 'list_2'. Remember that you can create nested lists\n"
          ]
        }
      ],
      "source": [
        "#@title #### Run this cell to check your answer { display-mode: \"form\", run: \"auto\" }\n",
        "\n",
        "assert \"list_1\" in globals(), \"The variable 'list_1' does not exist. Please, create it.\"\n",
        "assert \"list_2\" in globals(), \"The variable 'list_2' does not exist. Please, create it.\"\n",
        "assert \"list_3\" in globals(), \"The variable 'list_3' does not exist. Please, create it.\"\n",
        "\n",
        "marking_system.check_step_3(list_1, list_2, list_3)\n"
      ]
    },
    {
      "cell_type": "markdown",
      "id": "acfc34e6",
      "metadata": {
        "id": "acfc34e6"
      },
      "source": [
        "#### 4. Access the fourth element of each `list_1` and `list_2` and store the elements in `list_4`.\n",
        "\n",
        "`list_4` should look like this `[fourth element of list_1, fourth element of list_2]`"
      ]
    },
    {
      "cell_type": "code",
      "execution_count": 27,
      "id": "985c8fb8",
      "metadata": {
        "id": "985c8fb8"
      },
      "outputs": [],
      "source": [
        "# TODO - Create a list with two elements, the 4th element of list_1 and the 4th element of list_2\n",
        "list_4 =[list_1[3] , list_2[3]]"
      ]
    },
    {
      "cell_type": "code",
      "execution_count": 28,
      "id": "a5f5695e",
      "metadata": {
        "id": "a5f5695e",
        "outputId": "1a7f0243-42f6-49ca-a640-82ab1bd92e8b",
        "colab": {
          "base_uri": "https://localhost:8080/"
        }
      },
      "outputs": [
        {
          "output_type": "stream",
          "name": "stdout",
          "text": [
            "\u001b[92m✔ Well done! You successfully created a list with two elements: the fourth element of 'list_1' and the fourth element of 'list_2'. \n"
          ]
        }
      ],
      "source": [
        "#@title #### Run this cell to check your answer { display-mode: \"form\", run: \"auto\" }\n",
        "\n",
        "assert \"list_1\" in globals(), \"The variable 'list_1' does not exist. Please, create it.\"\n",
        "assert \"list_2\" in globals(), \"The variable 'list_2' does not exist. Please, create it.\"\n",
        "assert \"list_4\" in globals(), \"The variable 'list_4' does not exist. Please, create it.\"\n",
        "\n",
        "marking_system.check_step_4(list_1, list_2, list_4)\n"
      ]
    }
  ],
  "metadata": {
    "kernelspec": {
      "display_name": "content-projects_new",
      "language": "python",
      "name": "python3"
    },
    "language_info": {
      "name": "python",
      "version": "3.10.8"
    },
    "vscode": {
      "interpreter": {
        "hash": "4b961f8166aad6ccb4cf65d0f9c742ef9c6c23ffe83ad932438cd83ed96aebaf"
      }
    },
    "colab": {
      "provenance": []
    }
  },
  "nbformat": 4,
  "nbformat_minor": 5
}