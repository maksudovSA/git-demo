{
  "cells": [
    {
      "cell_type": "markdown",
      "id": "8e488a21",
      "metadata": {
        "id": "8e488a21"
      },
      "source": [
        "# Username List"
      ]
    },
    {
      "cell_type": "code",
      "execution_count": 3,
      "id": "1d312f4c",
      "metadata": {
        "id": "1d312f4c",
        "outputId": "5b12c29b-ebaf-4a1b-f5e9-02af59c0c6ca",
        "colab": {
          "base_uri": "https://localhost:8080/"
        }
      },
      "outputs": [
        {
          "output_type": "stream",
          "name": "stdout",
          "text": [
            "Downloading the marking system\n"
          ]
        }
      ],
      "source": [
        "#@title ### Run the following cell to download the necessary files for this practical { display-mode: \"form\" }\n",
        "#@markdown Don't worry about what's in this collapsed cell\n",
        "\n",
        "print('Downloading the marking system')\n",
        "!wget https://s3-eu-west-1.amazonaws.com/aicore-portal-public-prod-307050600709/practical_files/b2d5d233-0c3a-482d-8d4f-31ac6ac99240/marking_system.py -q -O marking_system.py\n",
        "import marking_system\n",
        "import importlib\n",
        "importlib.reload(marking_system)\n",
        "import sys\n",
        "ipython = get_ipython()\n",
        "def hide_traceback(exc_tuple=None, filename=None, tb_offset=None, exception_only=False, running_compiled_code=False):\n",
        "    etype, value, tb = sys.exc_info()\n",
        "    value.__cause__ = None  # suppress chained exceptions\n",
        "    return ipython._showtraceback(etype, \"❌ \" + f\"\u001b[91m{value}\", ipython.InteractiveTB.get_exception_only(etype, \"❌ \" + f\"\u001b[91m{value}\"))\n",
        "ipython.showtraceback = hide_traceback\n"
      ]
    },
    {
      "cell_type": "markdown",
      "id": "ca779da1",
      "metadata": {
        "id": "ca779da1"
      },
      "source": [
        "#### 1. Run the code block below to generate a list of 10 random usernames.\n",
        "\n",
        "Don't worry about understanding this code, as it covers concepts you have yet to learn. The code will just randomly generate a list of 10 usernames for us to work on."
      ]
    },
    {
      "cell_type": "code",
      "execution_count": 4,
      "id": "c4d75cae",
      "metadata": {
        "id": "c4d75cae",
        "outputId": "ed2adb3b-9cc6-47c7-be06-1af8d777cc0a",
        "colab": {
          "base_uri": "https://localhost:8080/"
        }
      },
      "outputs": [
        {
          "output_type": "stream",
          "name": "stdout",
          "text": [
            "['o8s4b', '9f6a0x', 'hqxt28', 'cky54usfho', 'nq2utkht0h', '7hy61', '2cserie', '5nih4i6', 'gepev', '2baxh']\n"
          ]
        }
      ],
      "source": [
        "import random\n",
        "import string\n",
        "\n",
        "usernames = []\n",
        "\n",
        "for i in range(10):\n",
        "    length = random.randint(5, 10)\n",
        "    username = ''.join(random.choices(string.ascii_lowercase + string.digits, k=length))\n",
        "    usernames.append(username)\n",
        "\n",
        "print(usernames)\n"
      ]
    },
    {
      "cell_type": "markdown",
      "id": "a881f51a",
      "metadata": {
        "id": "a881f51a"
      },
      "source": [
        "#### 2. Print the type of `usernames`"
      ]
    },
    {
      "cell_type": "code",
      "execution_count": 5,
      "id": "b7f8cf28",
      "metadata": {
        "id": "b7f8cf28",
        "outputId": "54f5c335-ebc9-4861-eb46-2dd808763543",
        "colab": {
          "base_uri": "https://localhost:8080/"
        }
      },
      "outputs": [
        {
          "output_type": "stream",
          "name": "stdout",
          "text": [
            "<class 'list'>\n"
          ]
        }
      ],
      "source": [
        "# TODO - print the type of the variable `usernames`\n",
        "print(type(usernames))"
      ]
    },
    {
      "cell_type": "code",
      "execution_count": 6,
      "id": "9dc7a8ff",
      "metadata": {
        "id": "9dc7a8ff",
        "outputId": "587dc591-6111-4793-f594-e9ef1c2d0398",
        "colab": {
          "base_uri": "https://localhost:8080/"
        }
      },
      "outputs": [
        {
          "output_type": "stream",
          "name": "stdout",
          "text": [
            "\u001b[92m✔ Well done! The variable 'usernames' is a list.\n"
          ]
        }
      ],
      "source": [
        "#@title #### Enter your solution here { display-mode: \"form\", run: \"auto\" }\n",
        "\n",
        "#@markdown What is the type of the variable `usernames`?\n",
        "usernames_type = \"list\" #@param [\"str\", \"int\", \"float\", \"bool\", \"list\", \"tuple\", \"dict\", \"other\", \"\"]\n",
        "\n",
        "marking_system.check_step_1(usernames_type)\n"
      ]
    },
    {
      "cell_type": "markdown",
      "id": "8ab1741d",
      "metadata": {
        "id": "8ab1741d"
      },
      "source": [
        "#### 3. Print the length of `usernames`"
      ]
    },
    {
      "cell_type": "code",
      "execution_count": 7,
      "id": "89e7e3cc",
      "metadata": {
        "id": "89e7e3cc",
        "outputId": "2a052d67-1cd0-4028-c66f-f285815e4cea",
        "colab": {
          "base_uri": "https://localhost:8080/"
        }
      },
      "outputs": [
        {
          "output_type": "stream",
          "name": "stdout",
          "text": [
            "10\n"
          ]
        }
      ],
      "source": [
        "# TODO - print the length of the variable `userna\n",
        "print(len(usernames))\n"
      ]
    },
    {
      "cell_type": "code",
      "execution_count": 8,
      "id": "b6d388ad",
      "metadata": {
        "id": "b6d388ad",
        "outputId": "84f124b2-752d-4f73-9aaf-df93287848af",
        "colab": {
          "base_uri": "https://localhost:8080/"
        }
      },
      "outputs": [
        {
          "output_type": "stream",
          "name": "stdout",
          "text": [
            "\u001b[92m✔ Well done! The length of the list 'usernames' is correct.\n"
          ]
        }
      ],
      "source": [
        "#@title #### Enter your solution here { display-mode: \"form\", run: \"auto\" }\n",
        "\n",
        "assert \"usernames\" in globals(), \"The variable 'usernames' does not exist. Please, make sure you have defined it\"\n",
        "\n",
        "#@markdown What is the length of the variable `usernames`?\n",
        "usernames_len = 10 #@param {type:\"number\"}\n",
        "\n",
        "marking_system.check_step_2(usernames, usernames_len)\n"
      ]
    },
    {
      "cell_type": "markdown",
      "id": "cd3d2141",
      "metadata": {
        "id": "cd3d2141"
      },
      "source": [
        "#### 4. Print the type of the first item in `usernames`"
      ]
    },
    {
      "cell_type": "code",
      "execution_count": 9,
      "id": "f09f8d31",
      "metadata": {
        "id": "f09f8d31",
        "outputId": "ba8f3b48-825d-4893-949e-4741491c7f9d",
        "colab": {
          "base_uri": "https://localhost:8080/"
        }
      },
      "outputs": [
        {
          "output_type": "stream",
          "name": "stdout",
          "text": [
            "<class 'str'>\n"
          ]
        }
      ],
      "source": [
        "# TODO - Print the type of the first item in `usernames`\n",
        "print(type(usernames[0]))\n"
      ]
    },
    {
      "cell_type": "code",
      "execution_count": 10,
      "id": "1f9be97d",
      "metadata": {
        "id": "1f9be97d",
        "outputId": "982aa77d-c2e2-4a3d-b812-2b1c27a1edfa",
        "colab": {
          "base_uri": "https://localhost:8080/"
        }
      },
      "outputs": [
        {
          "output_type": "stream",
          "name": "stdout",
          "text": [
            "\u001b[92m✔ Well done! The variable 'username' is a string. In this case, you have a list of strings, but lists can contain any type of data.\n"
          ]
        }
      ],
      "source": [
        "#@title #### Enter your solution here { display-mode: \"form\", run: \"auto\" }\n",
        "\n",
        "#@markdown What is the type of the first item in `usernames`?\n",
        "username_type = \"str\" #@param [\"str\", \"int\", \"float\", \"bool\", \"list\", \"tuple\", \"dict\", \"other\", \"\"]\n",
        "\n",
        "marking_system.check_step_3(username_type)\n"
      ]
    },
    {
      "cell_type": "markdown",
      "id": "9d14680c",
      "metadata": {
        "id": "9d14680c"
      },
      "source": [
        "#### 5. Create a new list called `usernames_2`, consisting of the last 5 elements of `usernames`.\n",
        "\n",
        "To do so, you will need to use slicing (i.e. `usernames[first_index:last_index]`)"
      ]
    },
    {
      "cell_type": "code",
      "execution_count": 19,
      "id": "c2971d97",
      "metadata": {
        "id": "c2971d97"
      },
      "outputs": [],
      "source": [
        "usernames_2 = usernames[-5:]\n"
      ]
    },
    {
      "cell_type": "markdown",
      "id": "fa16f654",
      "metadata": {
        "id": "fa16f654"
      },
      "source": [
        "#### 6. Remove the 2nd element of `usernames_2` from the list and assign it to a variable called `user_example`.\n",
        "\n",
        "You can use the `pop()` method to remove an element from a list and assign it to a variable. Once you have removed the element, print the list to check that it has been removed."
      ]
    },
    {
      "cell_type": "code",
      "execution_count": 21,
      "id": "cc13967a",
      "metadata": {
        "id": "cc13967a",
        "outputId": "56aaf1bf-af4b-4c8a-edac-e5c8033d9248",
        "colab": {
          "base_uri": "https://localhost:8080/"
        }
      },
      "outputs": [
        {
          "output_type": "stream",
          "name": "stdout",
          "text": [
            "['7hy61', '2cserie', '5nih4i6', 'gepev', '2baxh']\n",
            "2cserie\n"
          ]
        }
      ],
      "source": [
        "# TODO - Remove the 2nd element of usernames from the list and assign it to a variable called user_example\n",
        "# TODO - Print the list usernames_2\n",
        "print(usernames_2)\n",
        "user_example = usernames_2.pop(1)\n",
        "print(user_example)"
      ]
    },
    {
      "cell_type": "code",
      "execution_count": 22,
      "id": "361b0b48",
      "metadata": {
        "id": "361b0b48",
        "outputId": "329a6a03-2a9d-4fb3-83b3-afd96aa1ec35",
        "colab": {
          "base_uri": "https://localhost:8080/"
        }
      },
      "outputs": [
        {
          "output_type": "stream",
          "name": "stdout",
          "text": [
            "\u001b[92m✔ Well done! You have successfully popped the second element of 'usernames_2' and stored it in the variable 'user_example'.\n"
          ]
        }
      ],
      "source": [
        "#@title #### Run this cell to check your code { display-mode: \"form\", run: \"auto\" }\n",
        "\n",
        "assert \"usernames\" in globals(), \"The variable 'usernames' does not exist. Please, rerun the cell in step 1 to create the variable 'usernames'.\"\n",
        "assert \"usernames_2\" in globals(), \"The variable 'usernames_2' does not exist. Please, make sure you have defined it\"\n",
        "assert \"user_example\" in globals(), \"The variable 'user_example' does not exist. Please, make sure you have defined it\"\n",
        "\n",
        "marking_system.check_step_4(usernames, usernames_2, user_example)\n"
      ]
    },
    {
      "cell_type": "markdown",
      "id": "fd9a14a2",
      "metadata": {
        "id": "fd9a14a2"
      },
      "source": [
        "#### 7. Use the `.sort()` method to sort the elements of `usernames` alphabetically.\n",
        "\n",
        "Notice that after using the sort method, the list is sorted in place. This means that the list is permanently changed."
      ]
    },
    {
      "cell_type": "code",
      "execution_count": 24,
      "id": "1361c70c",
      "metadata": {
        "id": "1361c70c",
        "outputId": "a622bbcb-3f70-4c63-bb06-076fa5a8363f",
        "colab": {
          "base_uri": "https://localhost:8080/"
        }
      },
      "outputs": [
        {
          "output_type": "stream",
          "name": "stdout",
          "text": [
            "['2baxh', '2cserie', '5nih4i6', '7hy61', '9f6a0x', 'cky54usfho', 'gepev', 'hqxt28', 'nq2utkht0h', 'o8s4b']\n"
          ]
        }
      ],
      "source": [
        "# TODO - Use the `.sort()` method to sort the elements of `usernames` alphabetically.\n",
        "# TODO - Print `usernames`\n",
        "usernames.sort()\n",
        "print(usernames)"
      ]
    },
    {
      "cell_type": "code",
      "execution_count": 25,
      "id": "cbf5e55a",
      "metadata": {
        "id": "cbf5e55a",
        "outputId": "f8e11cd4-da5e-47ca-c1e4-c5d90f8c9cb8",
        "colab": {
          "base_uri": "https://localhost:8080/"
        }
      },
      "outputs": [
        {
          "output_type": "stream",
          "name": "stdout",
          "text": [
            "\u001b[92m✔ Well done! You have successfully sorted the list 'usernames'.\n"
          ]
        }
      ],
      "source": [
        "#@title #### Run this cell to check your code { display-mode: \"form\", run: \"auto\" }\n",
        "\n",
        "assert \"usernames\" in globals(), \"The variable 'usernames' does not exist. Please, rerun the cell in step 1 to create the variable 'usernames'.\"\n",
        "\n",
        "marking_system.check_step_5(usernames)\n"
      ]
    },
    {
      "cell_type": "markdown",
      "id": "14c77ef2",
      "metadata": {
        "id": "14c77ef2"
      },
      "source": [
        "#### 8. Using the `index()` method, make the list entry corresponding to `user_example` uppercase.\n",
        "\n",
        "For example, if `user_example` is `user123user`, the code should return `USER123USER`.\n",
        "\n",
        "First, create a variable called `idx_user_example` and assign it the index of `user_example` in the list.\n",
        "\n",
        "Then, retrieve the element at the index `idx_user_example`, uppercase it, and assign it to the variable `upper_user_example`.\n",
        "\n",
        "Finally, replace the element at the index `idx_user_example` with `upper_user_example`."
      ]
    },
    {
      "cell_type": "code",
      "execution_count": 41,
      "id": "4c69927b",
      "metadata": {
        "id": "4c69927b"
      },
      "outputs": [],
      "source": [
        "# TODO - Using the `index()` method, find the index of `user_example` in `usernames` and assign it to a variable called `idx_user_example`.\n",
        "# TODO - Using the index of `user_example`, retrieve the corresponding element from `usernames`, convert it to uppercase and assign it to a variable called `upper_user_example`.\n",
        "# TODO - Using the index of `user_example`, replace the corresponding element in `usernames` with `upper_user_example`.\n",
        "idx_user_example = usernames.index(user_example)\n",
        "upper_user_example = usernames[idx_user_example].upper()\n",
        "usernames[idx_user_example] = upper_user_example\n"
      ]
    },
    {
      "cell_type": "code",
      "execution_count": 42,
      "id": "522f751c",
      "metadata": {
        "id": "522f751c",
        "outputId": "387ba241-61da-42f3-8d77-552641ffb4d3",
        "colab": {
          "base_uri": "https://localhost:8080/"
        }
      },
      "outputs": [
        {
          "output_type": "stream",
          "name": "stdout",
          "text": [
            "\u001b[92m✔ Well done! You have successfully replaced the element in the list 'usernames' with the upper case version.\n"
          ]
        }
      ],
      "source": [
        "#@title #### Run this cell to check your code { display-mode: \"form\", run: \"auto\" }\n",
        "\n",
        "assert \"idx_user_example\" in globals(), \"The variable 'idx_user_example' does not exist. Please, make sure you have defined it\"\n",
        "assert \"upper_user_example\" in globals(), \"The variable 'upper_user_example' does not exist. Please, make sure you have defined it\"\n",
        "assert \"usernames\" in globals(), \"The variable 'usernames' does not exist. Run the cell in step 1 to create the variable 'usernames'.\"\n",
        "\n",
        "marking_system.check_step_6(usernames, idx_user_example, upper_user_example)\n"
      ]
    }
  ],
  "metadata": {
    "kernelspec": {
      "display_name": "content-projects_new",
      "language": "python",
      "name": "python3"
    },
    "language_info": {
      "codemirror_mode": {
        "name": "ipython",
        "version": 3
      },
      "file_extension": ".py",
      "mimetype": "text/x-python",
      "name": "python",
      "nbconvert_exporter": "python",
      "pygments_lexer": "ipython3",
      "version": "3.10.8"
    },
    "vscode": {
      "interpreter": {
        "hash": "4b961f8166aad6ccb4cf65d0f9c742ef9c6c23ffe83ad932438cd83ed96aebaf"
      }
    },
    "colab": {
      "provenance": []
    }
  },
  "nbformat": 4,
  "nbformat_minor": 5
}