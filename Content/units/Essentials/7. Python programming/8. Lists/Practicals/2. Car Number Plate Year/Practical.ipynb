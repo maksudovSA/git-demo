{
  "cells": [
    {
      "cell_type": "markdown",
      "id": "89e2d7a3",
      "metadata": {
        "id": "89e2d7a3"
      },
      "source": [
        "# Car Number Plate Year"
      ]
    },
    {
      "cell_type": "code",
      "execution_count": 1,
      "id": "e5e48836",
      "metadata": {
        "id": "e5e48836",
        "outputId": "218f9a2d-0a85-4f10-d316-2f17e32d6791",
        "colab": {
          "base_uri": "https://localhost:8080/"
        }
      },
      "outputs": [
        {
          "output_type": "stream",
          "name": "stdout",
          "text": [
            "Downloading the marking system\n"
          ]
        }
      ],
      "source": [
        "#@title ### Run the following cell to download the necessary files for this practical { display-mode: \"form\" }\n",
        "#@markdown Don't worry about what's in this collapsed cell\n",
        "\n",
        "print('Downloading the marking system')\n",
        "!wget https://s3-eu-west-1.amazonaws.com/aicore-portal-public-prod-307050600709/practical_files/2d29d116-7a6e-4acb-bbe2-f44ff09d1103/marking_system.py -q -O marking_system.py\n",
        "import marking_system\n",
        "import importlib\n",
        "importlib.reload(marking_system)\n",
        "import sys\n",
        "ipython = get_ipython()\n",
        "def hide_traceback(exc_tuple=None, filename=None, tb_offset=None, exception_only=False, running_compiled_code=False):\n",
        "    etype, value, tb = sys.exc_info()\n",
        "    value.__cause__ = None  # suppress chained exceptions\n",
        "    return ipython._showtraceback(etype, \"❌ \" + f\"\u001b[91m{value}\", ipython.InteractiveTB.get_exception_only(etype, \"❌ \" + f\"\u001b[91m{value}\"))\n",
        "ipython.showtraceback = hide_traceback\n"
      ]
    },
    {
      "cell_type": "markdown",
      "id": "1e20e5ad",
      "metadata": {
        "id": "1e20e5ad"
      },
      "source": [
        "Given the following list of number plates:"
      ]
    },
    {
      "cell_type": "code",
      "execution_count": 2,
      "id": "c560d645",
      "metadata": {
        "id": "c560d645"
      },
      "outputs": [],
      "source": [
        "plates = [\"G06 WTR\", \"WL11 WFL\", \"QW68 PQR\"]\n"
      ]
    },
    {
      "cell_type": "markdown",
      "id": "94148292",
      "metadata": {
        "id": "94148292"
      },
      "source": [
        "#### 1. Extract the last two characters of the first word, which represent the year of the car\n",
        "\n",
        "For example, the first number plate is from `\"06\"`, the second is from `\"11\"` and the third is from `\"68\"`.\n",
        "\n",
        "Assign each year to a variable called `year_1`, `year_2` and `year_3` respectively.\n",
        "\n",
        "_TIP: You can use the `split()` method to split the string into a list of words._"
      ]
    },
    {
      "cell_type": "code",
      "source": [],
      "metadata": {
        "id": "KVTopvTo92h7"
      },
      "id": "KVTopvTo92h7",
      "execution_count": null,
      "outputs": []
    },
    {
      "cell_type": "code",
      "execution_count": 16,
      "id": "05046123",
      "metadata": {
        "id": "05046123"
      },
      "outputs": [],
      "source": [
        "# TODO - Get the first plate, split it into two parts, get the first part, get the last two characters of that part. Assign the result to year_1\n",
        "# TODO - Get the second plate, split it into two parts, get the first part, get the last two characters of that part. Assign the result to year_2\n",
        "# TODO -  the third plate, split it into two parts, get the first part, get the last two characters of that part. Assign the result to year_3\n",
        "\n",
        "year_1 = plates[0].split(' ')[0][-2:]\n",
        "year_2 = plates[1].split(' ')[0][-2:]\n",
        "year_3 = plates[2].split(' ')[0][-2:]"
      ]
    },
    {
      "cell_type": "code",
      "execution_count": 17,
      "id": "2f18d6cd",
      "metadata": {
        "id": "2f18d6cd",
        "outputId": "bf13dadd-3e06-4471-b988-6e9734340158",
        "colab": {
          "base_uri": "https://localhost:8080/"
        }
      },
      "outputs": [
        {
          "output_type": "stream",
          "name": "stdout",
          "text": [
            "\u001b[92m✔ Well done! You successfully created 'year_1', 'year_2' and 'year_3'. Were you able to create each variable in a single line of code?\n"
          ]
        }
      ],
      "source": [
        "#@title #### Run this cell to check your answer { display-mode: \"form\", run: \"auto\" }\n",
        "\n",
        "assert \"year_1\" in globals(), \"The variable 'year_1' does not exist. Please, create it and try again.\"\n",
        "assert \"year_2\" in globals(), \"The variable 'year_2' does not exist. Please, create it and try again.\"\n",
        "assert \"year_3\" in globals(), \"The variable 'year_3' does not exist. Please, create it and try again.\"\n",
        "assert \"plates\" in globals(), \"The variable 'plates' does not exist. Please, run the cell at the top of the page to create it and try again.\"\n",
        "marking_system.check_step_1(year_1, year_2, year_3, plates)\n"
      ]
    },
    {
      "cell_type": "markdown",
      "id": "0aeb74e6",
      "metadata": {
        "id": "0aeb74e6"
      },
      "source": [
        "#### 2. Print the type of each of them"
      ]
    },
    {
      "cell_type": "code",
      "execution_count": 18,
      "id": "6c6709d4",
      "metadata": {
        "id": "6c6709d4",
        "outputId": "40dc7222-b4b2-4476-b265-53e8245d5158",
        "colab": {
          "base_uri": "https://localhost:8080/"
        }
      },
      "outputs": [
        {
          "output_type": "stream",
          "name": "stdout",
          "text": [
            "<class 'str'>\n",
            "<class 'str'>\n",
            "<class 'str'>\n"
          ]
        }
      ],
      "source": [
        "# TODO - Print the type of year_1\n",
        "# TODO - Print the type of year_2\n",
        "# TODO - Print the type of year_3\n",
        "print(type(year_1))\n",
        "print(type(year_2))\n",
        "print(type(year_3))"
      ]
    },
    {
      "cell_type": "code",
      "execution_count": 19,
      "id": "b5ff1036",
      "metadata": {
        "id": "b5ff1036",
        "outputId": "fc514e07-e5f2-4daf-d168-0847ec4f2c77",
        "colab": {
          "base_uri": "https://localhost:8080/"
        }
      },
      "outputs": [
        {
          "output_type": "stream",
          "name": "stdout",
          "text": [
            "\u001b[92m✔ Well done! The variable 'ans' is a string. In this case, you have a list of strings, and getting a slice of a string returns a string.\n"
          ]
        }
      ],
      "source": [
        "#@title #### Enter your solution here { display-mode: \"form\", run: \"auto\" }\n",
        "\n",
        "#@markdown What is the type of year_1, year_2 and year_3?\n",
        "ans = \"str\" #@param [\"str\", \"int\", \"float\", \"bool\", \"list\", \"tuple\", \"dict\", \"other\"]\n",
        "\n",
        "marking_system.check_step_2(ans)\n"
      ]
    },
    {
      "cell_type": "markdown",
      "id": "cb0a38c2",
      "metadata": {
        "id": "cb0a38c2"
      },
      "source": [
        "#### 3. Convert each of these years to an integer type\n",
        "\n",
        "Reassign the variables to the new values, i.e. `year_1`, `year_2` and `year_3`."
      ]
    },
    {
      "cell_type": "code",
      "execution_count": 22,
      "id": "96fa5ae4",
      "metadata": {
        "id": "96fa5ae4"
      },
      "outputs": [],
      "source": [
        "# TODO - Convert year_1 to an integer and assign the result to year_1\n",
        "# TODO - Convert year_2 to an integer and assign the result to year_2\n",
        "# TODO - Convert year_3 to an integer and assign the result to year_3\n",
        "year_1 = int(year_1)\n",
        "year_2 = int(year_2)\n",
        "year_3 = int(year_3)\n"
      ]
    },
    {
      "cell_type": "code",
      "execution_count": 23,
      "id": "e08e5d9b",
      "metadata": {
        "id": "e08e5d9b",
        "outputId": "9e520ac4-8a9e-4d53-e2fb-bb819ac66f60",
        "colab": {
          "base_uri": "https://localhost:8080/"
        }
      },
      "outputs": [
        {
          "output_type": "stream",
          "name": "stdout",
          "text": [
            "\u001b[92m✔ Well done! You successfully casted 'year_1', 'year_2' and 'year_3' to integers. \n"
          ]
        }
      ],
      "source": [
        "#@title #### Run this cell to check your answer { display-mode: \"form\", run: \"auto\" }\n",
        "\n",
        "assert \"year_1\" in globals(), \"The variable 'year_1' does not exist. Please, create it and try again.\"\n",
        "assert \"year_2\" in globals(), \"The variable 'year_2' does not exist. Please, create it and try again.\"\n",
        "assert \"year_3\" in globals(), \"The variable 'year_3' does not exist. Please, create it and try again.\"\n",
        "assert \"plates\" in globals(), \"The variable 'plates' does not exist. Please, run the cell at the top of the page to create it and try again.\"\n",
        "marking_system.check_step_3(year_1, year_2, year_3, plates)\n"
      ]
    }
  ],
  "metadata": {
    "kernelspec": {
      "display_name": "content-projects_new",
      "language": "python",
      "name": "python3"
    },
    "language_info": {
      "codemirror_mode": {
        "name": "ipython",
        "version": 3
      },
      "file_extension": ".py",
      "mimetype": "text/x-python",
      "name": "python",
      "nbconvert_exporter": "python",
      "pygments_lexer": "ipython3",
      "version": "3.10.8"
    },
    "vscode": {
      "interpreter": {
        "hash": "4b961f8166aad6ccb4cf65d0f9c742ef9c6c23ffe83ad932438cd83ed96aebaf"
      }
    },
    "colab": {
      "provenance": []
    }
  },
  "nbformat": 4,
  "nbformat_minor": 5
}