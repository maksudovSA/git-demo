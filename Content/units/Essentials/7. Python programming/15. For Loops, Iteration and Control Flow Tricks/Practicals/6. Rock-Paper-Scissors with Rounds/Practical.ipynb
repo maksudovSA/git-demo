{
  "cells": [
    {
      "cell_type": "markdown",
      "id": "ae88abd9",
      "metadata": {
        "id": "ae88abd9"
      },
      "source": [
        "# Rock-Paper-Scissors with Rounds"
      ]
    },
    {
      "cell_type": "code",
      "execution_count": 1,
      "id": "fbde08f8",
      "metadata": {
        "id": "fbde08f8",
        "outputId": "66d2f295-dc81-4120-cef4-a70f9f61ee46",
        "colab": {
          "base_uri": "https://localhost:8080/"
        }
      },
      "outputs": [
        {
          "output_type": "stream",
          "name": "stdout",
          "text": [
            "  Preparing metadata (setup.py) ... \u001b[?25l\u001b[?25hdone\n",
            "  Building wheel for timeout-decorator (setup.py) ... \u001b[?25l\u001b[?25hdone\n",
            "Downloading the marking system\n"
          ]
        }
      ],
      "source": [
        "#@title ### Run the following cell to download the necessary files for this practical { display-mode: \"form\" }\n",
        "#@markdown Don't worry about what's in this collapsed cell\n",
        "\n",
        "!pip install -q timeout-decorator\n",
        "print('Downloading the marking system')\n",
        "!wget https://s3-eu-west-1.amazonaws.com/aicore-portal-public-prod-307050600709/practical_files/11a45beb-e4ad-4f16-be70-c355c7897947/marking_system.py -q -O marking_system.py\n",
        "import marking_system\n",
        "import importlib\n",
        "importlib.reload(marking_system)\n",
        "import sys\n",
        "ipython = get_ipython()\n",
        "def hide_traceback(exc_tuple=None, filename=None, tb_offset=None, exception_only=False, running_compiled_code=False):\n",
        "    etype, value, tb = sys.exc_info()\n",
        "    value.__cause__ = None  # suppress chained exceptions\n",
        "    return ipython._showtraceback(etype, \"❌ \" + f\"\u001b[91m{value}\", ipython.InteractiveTB.get_exception_only(etype, \"❌ \" + f\"\u001b[91m{value}\"))\n",
        "ipython.showtraceback = hide_traceback\n"
      ]
    },
    {
      "cell_type": "markdown",
      "id": "d63419df",
      "metadata": {
        "id": "d63419df"
      },
      "source": [
        "In this practical you will create a game of Rock-Paper-Scissors with multiple rounds.\n",
        "\n",
        "### 1. Code the logic of the game to see who wins. Print the result like: `'Player 1 wins'` or `'Player 2 wins'`\n",
        "\n",
        "The game logic is as follows:\n",
        "\n",
        "- `rock` beats `scissors`\n",
        "- `scissors` beats `paper`\n",
        "- `paper` beats `rock`\n",
        "\n",
        "Use the code below to get started\n",
        "\n",
        "__The marking system will be case sensitive, so make sure you use the exact same words as above.__"
      ]
    },
    {
      "cell_type": "code",
      "execution_count": 3,
      "id": "f1e5dcaf",
      "metadata": {
        "id": "f1e5dcaf",
        "outputId": "8188e546-ad55-45b7-cd7e-f4e9a050445f",
        "colab": {
          "base_uri": "https://localhost:8080/"
        }
      },
      "outputs": [
        {
          "output_type": "stream",
          "name": "stdout",
          "text": [
            "What is player 1 choice? rock, paper or scissors? rock\n",
            "What is player 2 choice? rock, paper or scissors? paper\n",
            "Player 2 wins\n"
          ]
        }
      ],
      "source": [
        "player_1 = input(\"What is player 1 choice? rock, paper or scissors? \")\n",
        "player_2 = input(\"What is player 2 choice? rock, paper or scissors? \")\n",
        "# Add your code below this line\n",
        "# TODO - Code the logic for the game\n",
        "if (player_1 == \"rock\" and player_2 == \"scissors\") or \\\n",
        "           (player_1 == \"scissors\" and player_2 == \"paper\") or \\\n",
        "           (player_1 == \"paper\" and player_2 == \"rock\"):\n",
        "            print('Player 1 wins')\n",
        "else:\n",
        "            print('Player 2 wins')"
      ]
    },
    {
      "cell_type": "code",
      "execution_count": 4,
      "id": "3112f37b",
      "metadata": {
        "id": "3112f37b",
        "outputId": "d25c44ec-34fc-4337-817b-7c2bd11c0896",
        "colab": {
          "base_uri": "https://localhost:8080/"
        }
      },
      "outputs": [
        {
          "output_type": "stream",
          "name": "stdout",
          "text": [
            "\u001b[92m✔ Well done! You successfully checked the winner of the game.\n"
          ]
        }
      ],
      "source": [
        "#@title #### Run this cell to check if your code looks good { display-mode: \"form\"}\n",
        "assert \"# Add your code below this line\" in _ih[-2], \"Before checking your code, make sure the last cell you ran contains your code. If you did, make sure you haven't deleted the comment that says '# Add your code below this line'.\"\n",
        "assert \"#@title\" not in _ih[-2], \"If you want to check your code, rerun the cell that contains your code. If you did, make sure you haven't deleted the comment that says '# Add your code below this line'.\"\n",
        "\n",
        "marking_system.check_step_1(_ih[-2])\n"
      ]
    },
    {
      "cell_type": "markdown",
      "id": "17f838b8",
      "metadata": {
        "id": "17f838b8"
      },
      "source": [
        "### 2. Add a check to see if the inputs are valid.\n",
        "\n",
        "Use the same code you have written above, but add a check to see if the inputs are valid.\n",
        "\n",
        "If one of the inputs is not `'rock'`, `'paper'` or `'scissors'`, print `'Invalid input'`"
      ]
    },
    {
      "cell_type": "code",
      "execution_count": 9,
      "id": "beea4602",
      "metadata": {
        "id": "beea4602",
        "outputId": "d50cd3d8-0168-4b3a-8400-5514f283ae1d",
        "colab": {
          "base_uri": "https://localhost:8080/"
        }
      },
      "outputs": [
        {
          "output_type": "stream",
          "name": "stdout",
          "text": [
            "What is player 1 choice? rock, paper or scissors? paper\n",
            "What is player 2 choice? rock, paper or scissors? lizzard\n",
            "Invalid input\n"
          ]
        }
      ],
      "source": [
        "player_1 = input(\"What is player 1 choice? rock, paper or scissors? \")\n",
        "player_2 = input(\"What is player 2 choice? rock, paper or scissors? \")\n",
        "# Add your code below this line\n",
        "# TODO - Code the logic for the game to handle invalid inputs\n",
        "if player_1 not in [\"rock\", \"paper\", \"scissors\"] or player_2 not in [\"rock\", \"paper\", \"scissors\"]:\n",
        "    print(\"Invalid input\")\n",
        "elif (player_1 == \"rock\" and player_2 == \"scissors\") or \\\n",
        "     (player_1 == \"scissors\" and player_2 == \"paper\") or \\\n",
        "     (player_1 == \"paper\" and player_2 == \"rock\"):\n",
        "    print('Player 1 wins')\n",
        "else:\n",
        "    print('Player 2 wins')"
      ]
    },
    {
      "cell_type": "code",
      "execution_count": 10,
      "id": "1e033988",
      "metadata": {
        "id": "1e033988",
        "outputId": "20786453-0159-4592-d864-636ef743dac8",
        "colab": {
          "base_uri": "https://localhost:8080/"
        }
      },
      "outputs": [
        {
          "output_type": "stream",
          "name": "stdout",
          "text": [
            "\u001b[92m✔ Well done! You successfully checked the winner of the game and checked if the input is valid.\n"
          ]
        }
      ],
      "source": [
        "#@title #### Run this cell to check if your code looks good { display-mode: \"form\"}\n",
        "assert \"# Add your code below this line\" in _ih[-2], \"Before checking your code, make sure the last cell you ran contains your code. If you did, make sure you haven't deleted the comment that says '# Add your code below this line'.\"\n",
        "assert \"#@title\" not in _ih[-2], \"If you want to check your code, rerun the cell that contains your code. If you did, make sure you haven't deleted the comment that says '# Add your code below this line'.\"\n",
        "\n",
        "marking_system.check_step_2(_ih[-2])\n"
      ]
    },
    {
      "cell_type": "markdown",
      "id": "008f6bac",
      "metadata": {
        "id": "008f6bac"
      },
      "source": [
        "### 3. Add a check to see if the inputs are the same.\n",
        "\n",
        "Use the same code you have written above, but add a check to see if the inputs are the same.\n",
        "\n",
        "If both inputs are the same, print `\"It's a tie\"`"
      ]
    },
    {
      "cell_type": "code",
      "source": [],
      "metadata": {
        "id": "kqTtVNWUDuDV"
      },
      "id": "kqTtVNWUDuDV",
      "execution_count": null,
      "outputs": []
    },
    {
      "cell_type": "code",
      "execution_count": 17,
      "id": "c18cd5c9",
      "metadata": {
        "id": "c18cd5c9",
        "outputId": "01de651b-b841-49c6-fc37-b6d7f9cd2e3c",
        "colab": {
          "base_uri": "https://localhost:8080/"
        }
      },
      "outputs": [
        {
          "output_type": "stream",
          "name": "stdout",
          "text": [
            "What is player 1 choice? rock, paper or scissors? paper\n",
            "What is player 2 choice? rock, paper or scissors? paper\n",
            "It's a tie\n"
          ]
        }
      ],
      "source": [
        "player_1 = input(\"What is player 1 choice? rock, paper or scissors? \")\n",
        "player_2 = input(\"What is player 2 choice? rock, paper or scissors? \")\n",
        "# Add your code below this line\n",
        "# TODO - Code the logic for the game to handle invalid inputs\n",
        "if player_1 not in [\"rock\", \"paper\", \"scissors\"] or player_2 not in [\"rock\", \"paper\", \"scissors\"]:\n",
        "    print(\"Invalid input\")\n",
        "elif player_1 == player_2:\n",
        "  print(\"It's a tie\")p\n",
        "elif (player_1 == \"rock\" and player_2 == \"scissors\") or \\\n",
        "     (player_1 == \"scissors\" and player_2 == \"paper\") or \\\n",
        "     (player_1 == \"paper\" and player_2 == \"rock\"):\n",
        "    print('Player 1 wins')\n",
        "else:\n",
        "    print('Player 2 wins')"
      ]
    },
    {
      "cell_type": "code",
      "execution_count": 18,
      "id": "b3d304f1",
      "metadata": {
        "id": "b3d304f1",
        "outputId": "2bcf3791-47c1-4a2e-beb5-bfbcd162c3c1",
        "colab": {
          "base_uri": "https://localhost:8080/"
        }
      },
      "outputs": [
        {
          "output_type": "stream",
          "name": "stdout",
          "text": [
            "\u001b[92m✔ Well done! You successfully checked the winner of the game, checked if the input is valid, and checked if it's a tie.\n"
          ]
        }
      ],
      "source": [
        "#@title #### Run this cell to check if your code looks good { display-mode: \"form\"}\n",
        "assert \"# Add your code below this line\" in _ih[-2], \"Before checking your code, make sure the last cell you ran contains your code. If you did, make sure you haven't deleted the comment that says '# Add your code below this line'.\"\n",
        "assert \"#@title\" not in _ih[-2], \"If you want to check your code, rerun the cell that contains your code. If you did, make sure you haven't deleted the comment that says '# Add your code below this line'.\"\n",
        "\n",
        "marking_system.check_step_3(_ih[-2])\n"
      ]
    },
    {
      "cell_type": "markdown",
      "id": "4c3bc148",
      "metadata": {
        "id": "4c3bc148"
      },
      "source": [
        "### 4. Play the game until one of the players wins 3 times\n",
        "\n",
        "1. Create two variables `player_1_wins` and `player_2_wins` and set them to 0\n",
        "2. Create a while loop that runs until one of the players wins 3 times\n",
        "    - You can set the condition for the `while` loop to `player_1_wins < 3 and player_2_wins < 3`\n",
        "3. At the beginning of the loop, ask the users for their inputs\n",
        "4. Every time a player wins, instead of printing the winner, add 1 to the corresponding variable\n",
        "5. Print the result of the game at the end of the loop in the following format: `\"Player 1 won 3 times`, or `\"Player 2 won 2 times\"`\n",
        "\n",
        "__This step doesn't have a marking system because there are many ways to tackle this issue__"
      ]
    },
    {
      "cell_type": "code",
      "execution_count": 21,
      "id": "1235dddb",
      "metadata": {
        "id": "1235dddb",
        "outputId": "ecc3297a-2523-49e5-deb4-9b25b2e2741b",
        "colab": {
          "base_uri": "https://localhost:8080/"
        }
      },
      "outputs": [
        {
          "output_type": "stream",
          "name": "stdout",
          "text": [
            "What is player 1 choice? rock, paper or scissors? rock\n",
            "What is player 2 choice? rock, paper or scissors? paper\n",
            "What is player 1 choice? rock, paper or scissors? rock\n",
            "What is player 2 choice? rock, paper or scissors? paper\n",
            "What is player 1 choice? rock, paper or scissors? rock\n",
            "What is player 2 choice? rock, paper or scissors? paper\n",
            "Player 2 wins the game\n"
          ]
        }
      ],
      "source": [
        "# TODO - Code the logic for the game to play multiple rounds until one player wins 3 rounds\n",
        "#!\n",
        "\n",
        "# TODO - Print the winner of the three rounds\n",
        "player_1_wins = 0\n",
        "player_2_wins = 0\n",
        "while player_1_wins < 3 and player_2_wins < 3:\n",
        "  player_1 = input(\"What is player 1 choice? rock, paper or scissors? \")\n",
        "  player_2 = input(\"What is player 2 choice? rock, paper or scissors? \")\n",
        "  if player_1 not in [\"rock\", \"paper\", \"scissors\"] or player_2 not in [\"rock\", \"paper\", \"scissors\"]:\n",
        "    print(\"Invalid input\")\n",
        "  elif player_1 == player_2:\n",
        "    print(\"It's a tie\")\n",
        "  elif (player_1 == \"rock\" and player_2 == \"scissors\") or \\\n",
        "      (player_1 == \"scissors\" and player_2 == \"paper\") or \\\n",
        "      (player_1 == \"paper\" and player_2 == \"rock\"):\n",
        "      player_1_wins += 1\n",
        "  else:\n",
        "      player_2_wins += 1\n",
        "if player_1_wins == 3:\n",
        "    print(\"Player 1 wins the game\")\n",
        "else:\n",
        "    print(\"Player 2 wins the game\")"
      ]
    },
    {
      "cell_type": "code",
      "execution_count": 18,
      "id": "38c9787d",
      "metadata": {
        "id": "38c9787d"
      },
      "outputs": [],
      "source": []
    }
  ],
  "metadata": {
    "kernelspec": {
      "display_name": "content-projects_new",
      "language": "python",
      "name": "python3"
    },
    "language_info": {
      "codemirror_mode": {
        "name": "ipython",
        "version": 3
      },
      "file_extension": ".py",
      "mimetype": "text/x-python",
      "name": "python",
      "nbconvert_exporter": "python",
      "pygments_lexer": "ipython3",
      "version": "3.10.8"
    },
    "vscode": {
      "interpreter": {
        "hash": "4b961f8166aad6ccb4cf65d0f9c742ef9c6c23ffe83ad932438cd83ed96aebaf"
      }
    },
    "colab": {
      "provenance": []
    }
  },
  "nbformat": 4,
  "nbformat_minor": 5
}