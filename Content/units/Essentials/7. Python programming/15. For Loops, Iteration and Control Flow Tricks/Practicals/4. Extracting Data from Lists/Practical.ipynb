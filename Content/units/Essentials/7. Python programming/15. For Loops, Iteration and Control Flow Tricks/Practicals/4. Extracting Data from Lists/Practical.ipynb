{
  "cells": [
    {
      "cell_type": "markdown",
      "metadata": {
        "id": "b-EkGZm53gzY"
      },
      "source": [
        "# Extracting Data from Lists"
      ]
    },
    {
      "cell_type": "markdown",
      "metadata": {
        "id": "4lD6QQ2e3gzc"
      },
      "source": [
        "Using the following dictionaries:\n"
      ]
    },
    {
      "cell_type": "code",
      "execution_count": 1,
      "metadata": {
        "id": "tO8_cfUt3gzd"
      },
      "outputs": [],
      "source": [
        "dict_1 = {'London': [51.509865,-0.118092]}\n",
        "dict_2 = {'Paris': [48.864716, 2.349014]}\n"
      ]
    },
    {
      "cell_type": "markdown",
      "metadata": {
        "id": "oNm4OB8M3gze"
      },
      "source": [
        "### 1. Put them into a list as follows: `my_list = [dict_1, dict_2]`\n",
        "<p style=\"font-size: 14px; color: #999999; margin-top: 0px; margin-bottom: 0px;\">This practical doesn't have a marking system because there are many ways to tackle this issue</p>"
      ]
    },
    {
      "cell_type": "code",
      "execution_count": 2,
      "metadata": {
        "id": "DTWEzeJ43gzf"
      },
      "outputs": [],
      "source": [
        "# TODO: Create a list of the two dictionaries\n",
        "my_list = [dict_1, dict_2]"
      ]
    },
    {
      "cell_type": "markdown",
      "metadata": {
        "id": "EVoViC_j3gzg"
      },
      "source": [
        "### 2. Write a script that loops through the list and prints out the latitude (first value) of each city\n",
        "\n",
        "The output should look like this:\n",
        "```\n",
        "London: 51.509865\n",
        "Paris: 48.864716\n",
        "```"
      ]
    },
    {
      "cell_type": "code",
      "execution_count": 13,
      "metadata": {
        "id": "e7He5deU3gzg",
        "outputId": "66637b4d-81d3-460e-9514-0103d5723cd4",
        "colab": {
          "base_uri": "https://localhost:8080/"
        }
      },
      "outputs": [
        {
          "output_type": "stream",
          "name": "stdout",
          "text": [
            "London: 51.509865\n",
            "Paris: 48.864716\n"
          ]
        }
      ],
      "source": [
        "# TODO: Loop through the list\n",
        "    # TODO: Get the name of the city by using the keys() method\n",
        "    # TODO: Get the latitude of the city by using the index\n",
        "    # TODO: Print the city name and latitude\n",
        "for my_dict in my_list:\n",
        "  city_name = list(my_dict.keys())[0]\n",
        "  latitude = my_dict[city_name][0]\n",
        "  print(f\"{city_name}: {latitude}\")\n",
        "\n"
      ]
    }
  ],
  "metadata": {
    "kernelspec": {
      "display_name": "content-projects_new",
      "language": "python",
      "name": "python3"
    },
    "language_info": {
      "name": "python",
      "version": "3.10.8"
    },
    "vscode": {
      "interpreter": {
        "hash": "4b961f8166aad6ccb4cf65d0f9c742ef9c6c23ffe83ad932438cd83ed96aebaf"
      }
    },
    "colab": {
      "provenance": []
    }
  },
  "nbformat": 4,
  "nbformat_minor": 0
}