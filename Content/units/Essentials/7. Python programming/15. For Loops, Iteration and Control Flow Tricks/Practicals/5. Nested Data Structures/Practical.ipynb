{
  "cells": [
    {
      "cell_type": "markdown",
      "metadata": {
        "id": "hOoZm9h77ZYV"
      },
      "source": [
        "# Looping Through Nested Data Structures"
      ]
    },
    {
      "cell_type": "code",
      "execution_count": 1,
      "metadata": {
        "id": "635f62fa",
        "outputId": "159ce21d-f8f6-4ef4-f867-851fe107592c",
        "colab": {
          "base_uri": "https://localhost:8080/"
        }
      },
      "outputs": [
        {
          "output_type": "stream",
          "name": "stdout",
          "text": [
            "Downloading the marking system\n"
          ]
        }
      ],
      "source": [
        "#@title ### Run the following cell to download the necessary files for this practical { display-mode: \"form\" }\n",
        "#@markdown Don't worry about what's in this collapsed cell\n",
        "\n",
        "print('Downloading the marking system')\n",
        "!wget https://s3-eu-west-1.amazonaws.com/aicore-portal-public-prod-307050600709/practical_files/ef2d703b-761a-4287-99b3-70fbac5e06a3/marking_system.py -q -O marking_system.py\n",
        "import marking_system\n",
        "import importlib\n",
        "importlib.reload(marking_system)\n",
        "import sys\n",
        "ipython = get_ipython()\n",
        "def hide_traceback(exc_tuple=None, filename=None, tb_offset=None, exception_only=False, running_compiled_code=False):\n",
        "    etype, value, tb = sys.exc_info()\n",
        "    value.__cause__ = None  # suppress chained exceptions\n",
        "    return ipython._showtraceback(etype, \"❌ \" + f\"\u001b[91m{value}\", ipython.InteractiveTB.get_exception_only(etype, \"❌ \" + f\"\u001b[91m{value}\"))\n",
        "ipython.showtraceback = hide_traceback\n"
      ]
    },
    {
      "cell_type": "markdown",
      "metadata": {
        "id": "LpDlpd4H7ZYj"
      },
      "source": [
        "#### 1. Create a list of three dictionaries named `my_list`, where each dictionary contains the keys `\"name\"`, `\"age\"` and `\"favourite_colour\"`.\n"
      ]
    },
    {
      "cell_type": "code",
      "execution_count": 10,
      "metadata": {
        "id": "qIdU-k2M7ZYk"
      },
      "outputs": [],
      "source": [
        "import marking_system\n",
        "\n",
        "# TODO: Create a dictionary with the following keys: name, age, favourite_colour\n",
        "# TODO: Create a dictionary with the following keys: name, age, favourite_colour\n",
        "# TODO: Create a dictionary with the following keys: name, age, favourite_colour\n",
        "\n",
        "# TODO: Create a list of the three dictionaries\n",
        "my_dict_1 = {\"name\": \"Sardor\", \"age\": 24, \"favourite_colour\": \"black\"}\n",
        "my_dict_2 = {\"name\": \"Sarvar\", \"age\": 25, \"favourite_colour\": \"white\"}\n",
        "my_dict_3 = {\"name\": \"Dilmurod\", \"age\": 23, \"favourite_colour\": \"red\"}\n",
        "my_list = [my_dict_1 , my_dict_2 , my_dict_3]\n"
      ]
    },
    {
      "cell_type": "code",
      "execution_count": 11,
      "metadata": {
        "id": "yAqk_jjM7ZYl",
        "outputId": "ca8e1775-7b0d-43ef-93e6-907c2605e179",
        "colab": {
          "base_uri": "https://localhost:8080/"
        }
      },
      "outputs": [
        {
          "output_type": "stream",
          "name": "stdout",
          "text": [
            "\u001b[92m✔ Well done! You successfully created three dictionaries and nested them in a list.\n"
          ]
        }
      ],
      "source": [
        "#@title #### Run this cell to check if your code looks good { display-mode: \"form\"}\n",
        "\n",
        "assert \"my_dict_1\" in globals(), \"You should create a dictionary called my_dict_1\"\n",
        "assert \"my_dict_2\" in globals(), \"You should create a dictionary called my_dict_2\"\n",
        "assert \"my_dict_3\" in globals(), \"You should create a dictionary called my_dict_3\"\n",
        "assert \"my_list\" in globals(), \"You should create a list called my_list\"\n",
        "marking_system.check_step_1(my_dict_1, my_dict_2, my_dict_3, my_list)\n"
      ]
    },
    {
      "cell_type": "markdown",
      "metadata": {
        "id": "rTAZ_zMv7ZYm"
      },
      "source": [
        "### 2. Using nested for loops, create a new dictionary where the value of each `\"name\"` key is a key. Name the new dictionary `names_dict`\n",
        "\n",
        "The values in the new dictionary should be a dictionary of the other two key-value pairs from each original dictionary.\n",
        "\n",
        "As an example, the new dictionary should have key-value pairs like this:\n",
        "\n",
        "``` python\n",
        "{\n",
        "    \"Sarah\" : {\n",
        "        \"age\": 25,\n",
        "        \"favourite_colour\", \"blue\"\n",
        "    },\n",
        "    \"John\" : {\n",
        "        \"age\": 30,\n",
        "        \"favourite_colour\", \"green\"\n",
        "    }\n",
        "}\n"
      ]
    },
    {
      "cell_type": "code",
      "execution_count": 21,
      "metadata": {
        "id": "uJ5wLPR97ZYn",
        "outputId": "241c859f-5d12-4959-ae73-c3ac927fd17a",
        "colab": {
          "base_uri": "https://localhost:8080/"
        }
      },
      "outputs": [
        {
          "output_type": "stream",
          "name": "stdout",
          "text": [
            "Dilmurod\n",
            "{'Sardor': {'age': 24, 'favourite_colour': 'black'}, 'Sarvar': {'age': 25, 'favourite_colour': 'white'}, 'Dilmurod': {'age': 23, 'favourite_colour': 'red'}}\n"
          ]
        }
      ],
      "source": [
        "# TODO: Create an empty dictionary called names_dict\n",
        "# TODO: Loop through the list of dictionaries\n",
        "    # TODO: Get the name of the person and store it in a variable called name\n",
        "    # TODO: Get the age of the person and store it in a variable called age\n",
        "    # TODO: Get the favourite colour of the person and store it in a variable called favourite_colour\n",
        "    # TODO: Create a new key in the names_dict dictionary with the name of the person as the key and a dictionary with the age and favourite colour as the value\n",
        "names_dict = {}\n",
        "for my_dict in my_list:\n",
        "  name = list(my_dict.values())[0]\n",
        "  age = list(my_dict.values())[1]\n",
        "  favourite_colour = list(my_dict.values())[2]\n",
        "  names_dict[name] = {\"age\": age , \"favourite_colour\": favourite_colour}"
      ]
    },
    {
      "cell_type": "code",
      "execution_count": 22,
      "metadata": {
        "id": "wm-7wBss7ZYo",
        "outputId": "e0139923-85de-43d1-fe95-772074db56b7",
        "colab": {
          "base_uri": "https://localhost:8080/"
        }
      },
      "outputs": [
        {
          "output_type": "stream",
          "name": "stdout",
          "text": [
            "\u001b[92m✔ Well done! You successfully created a new dictionary where the new keys are the names of the users and the new values are dictionaries with the age and favourite colour of each user.\n"
          ]
        }
      ],
      "source": [
        "#@title #### Run this cell to check if your code looks good { display-mode: \"form\"}\n",
        "\n",
        "assert \"my_dict_1\" in globals(), \"You should create a dictionary called my_dict_1\"\n",
        "assert \"my_dict_2\" in globals(), \"You should create a dictionary called my_dict_2\"\n",
        "assert \"my_dict_3\" in globals(), \"You should create a dictionary called my_dict_3\"\n",
        "assert \"my_list\" in globals(), \"You should create a list called my_list\"\n",
        "assert \"names_dict\" in globals(), \"You should create a dictionary called names_dict\"\n",
        "marking_system.check_step_2(my_dict_1, my_dict_2, my_dict_3, my_list, names_dict)\n"
      ]
    },
    {
      "cell_type": "code",
      "execution_count": 23,
      "metadata": {
        "id": "dP6kS1jP7ZYp",
        "outputId": "c2244764-219e-42cd-ddaa-249d6e7bda46",
        "colab": {
          "base_uri": "https://localhost:8080/"
        }
      },
      "outputs": [
        {
          "output_type": "stream",
          "name": "stdout",
          "text": [
            "First, create an empty dictionary called names_dict. Then, loop through my_list and get the name, age, and favourite colour of each person. Finally, add the name as a key to the names_dict dictionary and the age and favourite colour as a value. In your case, 'names_dict' should look like this: {'Sardor': {'age': 24, 'favourite_colour': 'black'}, 'Sarvar': {'age': 25, 'favourite_colour': 'white'}, 'Dilmurod': {'age': 23, 'favourite_colour': 'red'}}\n"
          ]
        }
      ],
      "source": [
        "#@title #### Run this cell to get a hint { display-mode: \"form\" }\n",
        "\n",
        "assert \"my_dict_1\" in globals(), \"You should create a dictionary called my_dict_1\"\n",
        "assert \"my_dict_2\" in globals(), \"You should create a dictionary called my_dict_2\"\n",
        "assert \"my_dict_3\" in globals(), \"You should create a dictionary called my_dict_3\"\n",
        "assert \"my_list\" in globals(), \"You should create a list called my_list\"\n",
        "marking_system.hint_1(my_dict_1, my_dict_2, my_dict_3, my_list)\n"
      ]
    }
  ],
  "metadata": {
    "kernelspec": {
      "display_name": "content-projects_new",
      "language": "python",
      "name": "python3"
    },
    "language_info": {
      "name": "python",
      "version": "3.10.8"
    },
    "vscode": {
      "interpreter": {
        "hash": "4b961f8166aad6ccb4cf65d0f9c742ef9c6c23ffe83ad932438cd83ed96aebaf"
      }
    },
    "colab": {
      "provenance": []
    }
  },
  "nbformat": 4,
  "nbformat_minor": 0
}