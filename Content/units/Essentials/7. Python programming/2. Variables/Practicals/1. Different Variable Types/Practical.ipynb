{
  "cells": [
    {
      "cell_type": "markdown",
      "metadata": {
        "id": "vTrliK3qM_1_"
      },
      "source": [
        "# Different Variable Types"
      ]
    },
    {
      "cell_type": "code",
      "execution_count": 1,
      "metadata": {
        "id": "f83d30a2",
        "outputId": "ea8c05a8-f50c-4f29-e6a5-fdc6c4d2374e",
        "colab": {
          "base_uri": "https://localhost:8080/"
        }
      },
      "outputs": [
        {
          "output_type": "stream",
          "name": "stdout",
          "text": [
            "Downloading the marking system\n"
          ]
        }
      ],
      "source": [
        "#@title ### Run the following cell to download the necessary files for this practical { display-mode: \"form\" }\n",
        "#@markdown Don't worry about what's in this collapsed cell\n",
        "\n",
        "print('Downloading the marking system')\n",
        "!wget https://s3-eu-west-1.amazonaws.com/aicore-portal-public-prod-307050600709/practical_files/008ee44f-5a60-4574-b00c-6f25230edc27/marking_system.py -q -O marking_system.py\n",
        "import marking_system\n",
        "import importlib\n",
        "importlib.reload(marking_system)\n",
        "import sys\n",
        "ipython = get_ipython()\n",
        "def hide_traceback(exc_tuple=None, filename=None, tb_offset=None, exception_only=False, running_compiled_code=False):\n",
        "    etype, value, tb = sys.exc_info()\n",
        "    value.__cause__ = None  # suppress chained exceptions\n",
        "    return ipython._showtraceback(etype, \"❌ \" + f\"\u001b[91m{value}\", ipython.InteractiveTB.get_exception_only(etype, \"❌ \" + f\"\u001b[91m{value}\"))\n",
        "ipython.showtraceback = hide_traceback\n"
      ]
    },
    {
      "cell_type": "markdown",
      "metadata": {
        "id": "DmuOfvIsM_2B"
      },
      "source": [
        "### 1. Define the the following variables:\n",
        "\n",
        "```python\n",
        "num = 23\n",
        "text_num = \"57\"\n",
        "decimal_num = 98.3\n",
        "```"
      ]
    },
    {
      "cell_type": "code",
      "execution_count": 2,
      "metadata": {
        "id": "LW6xzDi2M_2B"
      },
      "outputs": [],
      "source": [
        "# TODO: Create a variable called 'num' and assign it the value 23\n",
        "# TODO: Create a variable called 'text_num' and assign it the value \"57\"\n",
        "# TODO: Create a variable called 'decimal_num' and assign it the value 98.3\n",
        "num = 23\n",
        "text_num = '57'\n",
        "decimal_num = 98.3"
      ]
    },
    {
      "cell_type": "code",
      "execution_count": 3,
      "metadata": {
        "id": "DDduAMQ5M_2C",
        "outputId": "944276f5-19a6-40f3-f0af-5455335e4824",
        "colab": {
          "base_uri": "https://localhost:8080/"
        }
      },
      "outputs": [
        {
          "output_type": "stream",
          "name": "stdout",
          "text": [
            "\u001b[92m✔ Well done!\n"
          ]
        }
      ],
      "source": [
        "#@title #### Run this cell to check your solution { display-mode: \"form\", run: \"auto\" }\n",
        "\n",
        "assert \"num\" in globals(), \"You haven't defined the variable 'num'.\"\n",
        "assert \"text_num\" in globals(), \"You haven't defined the variable 'text_num'.\"\n",
        "assert \"decimal_num\" in globals(), \"You haven't defined the variable 'decimal_num'.\"\n",
        "\n",
        "marking_system.check_step_1(num, text_num, decimal_num)\n"
      ]
    },
    {
      "cell_type": "markdown",
      "metadata": {
        "id": "PJUjLjVwM_2C"
      },
      "source": [
        "### 2. Print the types of each variable (hint: use the `type()` function)"
      ]
    },
    {
      "cell_type": "code",
      "execution_count": 4,
      "metadata": {
        "id": "BUC5wPL1M_2C",
        "outputId": "e86a915a-e543-455f-b5d1-1f609750c999",
        "colab": {
          "base_uri": "https://localhost:8080/"
        }
      },
      "outputs": [
        {
          "output_type": "stream",
          "name": "stdout",
          "text": [
            "<class 'int'>\n",
            "<class 'str'>\n",
            "<class 'float'>\n"
          ]
        }
      ],
      "source": [
        "# TODO: Print the type of the three variables you created above\n",
        "print(type(num))\n",
        "print(type(text_num))\n",
        "print(type(decimal_num))"
      ]
    },
    {
      "cell_type": "code",
      "execution_count": 5,
      "metadata": {
        "id": "jV97qTfiM_2C",
        "outputId": "04ff5bdd-a3cd-4ce2-cee0-37025549a445",
        "colab": {
          "base_uri": "https://localhost:8080/"
        }
      },
      "outputs": [
        {
          "output_type": "stream",
          "name": "stdout",
          "text": [
            "\u001b[92m✔ Well done!\n"
          ]
        }
      ],
      "source": [
        "#@title #### Enter your solution here { display-mode: \"form\", run: \"auto\" }\n",
        "\n",
        "#@markdown What is the type of the variable 'num'?\n",
        "num_type = \"int\" #@param [\"int\", \"str\", \"float\"] {allow-input: true}\n",
        "#@markdown What is the type of the variable 'text_num'?\n",
        "text_num_type = \"str\" #@param [\"int\", \"str\", \"float\"] {allow-input: true}\n",
        "#@markdown What is the type of the variable 'decimal_num'?\n",
        "decimal_num_type = \"float\" #@param [\"int\", \"str\", \"float\"] {allow-input: true}\n",
        "marking_system.check_step_2(num_type, text_num_type, decimal_num_type)\n"
      ]
    }
  ],
  "metadata": {
    "kernelspec": {
      "display_name": "content-projects_new",
      "language": "python",
      "name": "python3"
    },
    "language_info": {
      "name": "python",
      "version": "3.10.8"
    },
    "vscode": {
      "interpreter": {
        "hash": "4b961f8166aad6ccb4cf65d0f9c742ef9c6c23ffe83ad932438cd83ed96aebaf"
      }
    },
    "colab": {
      "provenance": []
    }
  },
  "nbformat": 4,
  "nbformat_minor": 0
}