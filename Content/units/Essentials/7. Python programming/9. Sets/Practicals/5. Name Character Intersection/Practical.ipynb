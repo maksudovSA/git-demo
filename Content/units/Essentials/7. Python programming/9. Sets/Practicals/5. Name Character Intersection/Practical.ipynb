{
  "cells": [
    {
      "cell_type": "markdown",
      "id": "58a68ab0",
      "metadata": {
        "id": "58a68ab0"
      },
      "source": [
        "# Name Character Intersection"
      ]
    },
    {
      "cell_type": "code",
      "execution_count": 5,
      "id": "8bad9b96",
      "metadata": {
        "id": "8bad9b96",
        "outputId": "a10ff326-fe52-448b-e30f-745dc576f1e7",
        "colab": {
          "base_uri": "https://localhost:8080/"
        }
      },
      "outputs": [
        {
          "output_type": "stream",
          "name": "stdout",
          "text": [
            "Downloading the marking system\n"
          ]
        }
      ],
      "source": [
        "#@title ### Run the following cell to download the necessary files for this practical { display-mode: \"form\" }\n",
        "#@markdown Don't worry about what's in this collapsed cell\n",
        "\n",
        "print('Downloading the marking system')\n",
        "!wget https://s3-eu-west-1.amazonaws.com/aicore-portal-public-prod-307050600709/practical_files/6463030e-09db-4fb5-80fb-c4c78719d6df/marking_system.py -q -O marking_system.py\n",
        "import marking_system\n",
        "import importlib\n",
        "importlib.reload(marking_system)\n",
        "import sys\n",
        "ipython = get_ipython()\n",
        "def hide_traceback(exc_tuple=None, filename=None, tb_offset=None, exception_only=False, running_compiled_code=False):\n",
        "    etype, value, tb = sys.exc_info()\n",
        "    value.__cause__ = None  # suppress chained exceptions\n",
        "    return ipython._showtraceback(etype, \"❌ \" + f\"\u001b[91m{value}\", ipython.InteractiveTB.get_exception_only(etype, \"❌ \" + f\"\u001b[91m{value}\"))\n",
        "ipython.showtraceback = hide_traceback\n"
      ]
    },
    {
      "cell_type": "markdown",
      "id": "76b5a9e0",
      "metadata": {
        "id": "76b5a9e0"
      },
      "source": [
        "#### 1. Create two strings with at least 4 characters and assign them to `name_1` and `name_2`"
      ]
    },
    {
      "cell_type": "code",
      "execution_count": 3,
      "id": "bae1053d",
      "metadata": {
        "id": "bae1053d"
      },
      "outputs": [],
      "source": [
        "# TODO - Create a string variable called 'name_1'\n",
        "# TODO - Create a string variable called 'name_2'\n",
        "name_1 = 'bugatti'\n",
        "name_2 = 'lambo'\n"
      ]
    },
    {
      "cell_type": "code",
      "execution_count": 6,
      "id": "ab19d22c",
      "metadata": {
        "id": "ab19d22c",
        "outputId": "d20dbd1d-3fa3-4cc0-acb8-51221575f28c",
        "colab": {
          "base_uri": "https://localhost:8080/"
        }
      },
      "outputs": [
        {
          "output_type": "stream",
          "name": "stdout",
          "text": [
            "\u001b[92m✔ Well done! The variables 'name_1' and 'name_2' are strings with at least 4 characters.\n"
          ]
        }
      ],
      "source": [
        "#@title #### Run this cell to check your answer { display-mode: \"form\", run: \"auto\" }\n",
        "\n",
        "assert \"name_1\" in globals(), \"The variable 'name_1' does not exist. Please, create it and try again.\"\n",
        "assert \"name_2\" in globals(), \"The variable 'name_2' does not exist. Please, create it and try again.\"\n",
        "marking_system.check_step_1(name_1, name_2)\n"
      ]
    },
    {
      "cell_type": "markdown",
      "id": "1df848c0",
      "metadata": {
        "id": "1df848c0"
      },
      "source": [
        "#### 2. Find the characters that appear in both names.\n",
        "\n",
        "Assign the result to `name_intersection`. _Hint: You can use the `set` function to convert a string to a set of characters._"
      ]
    },
    {
      "cell_type": "code",
      "execution_count": 8,
      "id": "320742ed",
      "metadata": {
        "id": "320742ed"
      },
      "outputs": [],
      "source": [
        "# TODO - Convert each name to a set and find the intersection between them\n",
        "name_intersection = set(name_1).intersection(name_2)"
      ]
    },
    {
      "cell_type": "code",
      "source": [],
      "metadata": {
        "id": "YOETtkzjVz7f"
      },
      "id": "YOETtkzjVz7f",
      "execution_count": null,
      "outputs": []
    },
    {
      "cell_type": "code",
      "execution_count": 9,
      "id": "05c05199",
      "metadata": {
        "id": "05c05199",
        "outputId": "82ffdcad-c900-4ef4-ae34-33eb6d256061",
        "colab": {
          "base_uri": "https://localhost:8080/"
        }
      },
      "outputs": [
        {
          "output_type": "stream",
          "name": "stdout",
          "text": [
            "\u001b[92m✔ Well done! You successfully found the intersection of the two names.\n"
          ]
        }
      ],
      "source": [
        "#@title #### Run this cell to check your answer { display-mode: \"form\", run: \"auto\" }\n",
        "\n",
        "assert \"name_1\" in globals(), \"The variable 'name_1' does not exist. Please, create it and try again.\"\n",
        "assert \"name_2\" in globals(), \"The variable 'name_2' does not exist. Please, create it and try again.\"\n",
        "assert \"name_intersection\" in globals(), \"The variable 'name_intersection' does not exist. Please, create it and try again.\"\n",
        "marking_system.check_step_2(name_1, name_2, name_intersection)\n"
      ]
    }
  ],
  "metadata": {
    "kernelspec": {
      "display_name": "content-projects_new",
      "language": "python",
      "name": "python3"
    },
    "language_info": {
      "codemirror_mode": {
        "name": "ipython",
        "version": 3
      },
      "file_extension": ".py",
      "mimetype": "text/x-python",
      "name": "python",
      "nbconvert_exporter": "python",
      "pygments_lexer": "ipython3",
      "version": "3.10.8"
    },
    "vscode": {
      "interpreter": {
        "hash": "4b961f8166aad6ccb4cf65d0f9c742ef9c6c23ffe83ad932438cd83ed96aebaf"
      }
    },
    "colab": {
      "provenance": []
    }
  },
  "nbformat": 4,
  "nbformat_minor": 5
}