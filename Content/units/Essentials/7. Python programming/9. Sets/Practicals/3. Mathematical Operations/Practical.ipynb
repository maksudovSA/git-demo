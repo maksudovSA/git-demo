{
  "cells": [
    {
      "cell_type": "markdown",
      "id": "00f4d161",
      "metadata": {
        "id": "00f4d161"
      },
      "source": [
        "# Mathematical Operations"
      ]
    },
    {
      "cell_type": "code",
      "execution_count": 1,
      "id": "960854e2",
      "metadata": {
        "id": "960854e2",
        "outputId": "53b1df1a-01f0-4176-acf4-a594ee33bea0",
        "colab": {
          "base_uri": "https://localhost:8080/"
        }
      },
      "outputs": [
        {
          "output_type": "stream",
          "name": "stdout",
          "text": [
            "Downloading the marking system\n"
          ]
        }
      ],
      "source": [
        "#@title ### Run the following cell to download the necessary files for this practical { display-mode: \"form\" }\n",
        "#@markdown Don't worry about what's in this collapsed cell\n",
        "\n",
        "print('Downloading the marking system')\n",
        "!wget https://s3-eu-west-1.amazonaws.com/aicore-portal-public-prod-307050600709/practical_files/7a76d5b2-00c5-45e6-8055-adae77800ad6/marking_system.py -q -O marking_system.py\n",
        "import marking_system\n",
        "import importlib\n",
        "importlib.reload(marking_system)\n",
        "import sys\n",
        "ipython = get_ipython()\n",
        "def hide_traceback(exc_tuple=None, filename=None, tb_offset=None, exception_only=False, running_compiled_code=False):\n",
        "    etype, value, tb = sys.exc_info()\n",
        "    value.__cause__ = None  # suppress chained exceptions\n",
        "    return ipython._showtraceback(etype, \"❌ \" + f\"\u001b[91m{value}\", ipython.InteractiveTB.get_exception_only(etype, \"❌ \" + f\"\u001b[91m{value}\"))\n",
        "ipython.showtraceback = hide_traceback\n"
      ]
    },
    {
      "cell_type": "markdown",
      "id": "9f7bba24",
      "metadata": {
        "id": "9f7bba24"
      },
      "source": [
        "### Given the following two sets:\n"
      ]
    },
    {
      "cell_type": "code",
      "execution_count": 2,
      "id": "4c03c49d",
      "metadata": {
        "id": "4c03c49d"
      },
      "outputs": [],
      "source": [
        "set_1 = {15, 25, 35, 45, 55}\n",
        "set_2 = {35, 45, 55, 65, 75}\n"
      ]
    },
    {
      "cell_type": "markdown",
      "id": "69ff412a",
      "metadata": {
        "id": "69ff412a"
      },
      "source": [
        "### 1. Create a set with the common items and name it `common_items`"
      ]
    },
    {
      "cell_type": "code",
      "execution_count": 4,
      "id": "0db2b447",
      "metadata": {
        "id": "0db2b447"
      },
      "outputs": [],
      "source": [
        "# TODO - Find common items in both sets\n",
        "common_items = set_1.intersection(set_2)"
      ]
    },
    {
      "cell_type": "code",
      "execution_count": 5,
      "id": "70af57b9",
      "metadata": {
        "id": "70af57b9",
        "outputId": "4ba06b38-c5a3-4abf-ffd5-b4ac8cb261bb",
        "colab": {
          "base_uri": "https://localhost:8080/"
        }
      },
      "outputs": [
        {
          "output_type": "stream",
          "name": "stdout",
          "text": [
            "\u001b[92m✔ Well done! You have successfully found the common elements between two sets.\n"
          ]
        }
      ],
      "source": [
        "#@title #### Enter your solution here { display-mode: \"form\", run: \"auto\" }\n",
        "\n",
        "assert \"common_items\" in globals(), \"Please, make sure you create the variable 'common_items' and try again.\"\n",
        "assert \"set_1\" in globals(), \"Please, make sure you create the variable 'set_1' and try again.\"\n",
        "assert \"set_2\" in globals(), \"Please, make sure you create the variable 'set_2' and try again.\"\n",
        "#@markdown What is the method you used to find the common items in both sets?\n",
        "ans = \"intersection\" #@param [\"union\", \"intersection\", \"difference\", \"symmetric_difference\"]\n",
        "marking_system.check_step_1(common_items, ans, set_1, set_2)\n"
      ]
    },
    {
      "cell_type": "markdown",
      "id": "96e67a15",
      "metadata": {
        "id": "96e67a15"
      },
      "source": [
        "### 2. Create a set with the items that are in `set_1` but not in `set_2` and name it `set_1_only`"
      ]
    },
    {
      "cell_type": "code",
      "execution_count": 6,
      "id": "d6cccda4",
      "metadata": {
        "id": "d6cccda4"
      },
      "outputs": [],
      "source": [
        "# TODO - Find items in set_1 but not in set_2\n",
        "set_1_only = set_1.difference(set_2)"
      ]
    },
    {
      "cell_type": "code",
      "execution_count": 7,
      "id": "dec49074",
      "metadata": {
        "id": "dec49074",
        "outputId": "031c9c14-4a09-4b33-eaef-5cf1f115fd5e",
        "colab": {
          "base_uri": "https://localhost:8080/"
        }
      },
      "outputs": [
        {
          "output_type": "stream",
          "name": "stdout",
          "text": [
            "\u001b[92m✔ Well done! You have successfully found the elements that are only in set_1.\n"
          ]
        }
      ],
      "source": [
        "#@title #### Enter your solution here { display-mode: \"form\", run: \"auto\" }\n",
        "\n",
        "assert \"set_1_only\" in globals(), \"Please, make sure you create the variable 'set_1_only' and try again.\"\n",
        "assert \"set_1\" in globals(), \"Please, make sure you create the variable 'set_1' and try again.\"\n",
        "assert \"set_2\" in globals(), \"Please, make sure you create the variable 'set_2' and try again.\"\n",
        "#@markdown What is the method you used to find the items in set_1 but not in set_2?\n",
        "ans = \"difference\" #@param [\"union\", \"intersection\", \"difference\", \"symmetric_difference\"]\n",
        "marking_system.check_step_2(set_1_only, ans, set_1, set_2)\n"
      ]
    },
    {
      "cell_type": "markdown",
      "id": "17dc205d",
      "metadata": {
        "id": "17dc205d"
      },
      "source": [
        "### 3. Create a set with the items that are in `set_2` but not in `set_1` and name it `set_2_only`"
      ]
    },
    {
      "cell_type": "code",
      "execution_count": 8,
      "id": "a85e0e8b",
      "metadata": {
        "id": "a85e0e8b"
      },
      "outputs": [],
      "source": [
        "# TODO - Find items in set_2 but not in set_1\n",
        "set_2_only = set_2.difference(set_1)"
      ]
    },
    {
      "cell_type": "code",
      "execution_count": 9,
      "id": "33a4b273",
      "metadata": {
        "id": "33a4b273",
        "outputId": "3aa82be8-207e-46fc-b8a3-e4476f303b1c",
        "colab": {
          "base_uri": "https://localhost:8080/"
        }
      },
      "outputs": [
        {
          "output_type": "stream",
          "name": "stdout",
          "text": [
            "\u001b[92m✔ Well done! You have successfully found the elements that are only in set_2.\n"
          ]
        }
      ],
      "source": [
        "#@title #### Enter your solution here { display-mode: \"form\", run: \"auto\" }\n",
        "\n",
        "assert \"set_2_only\" in globals(), \"Please, make sure you create the variable 'set_2_only' and try again.\"\n",
        "assert \"set_1\" in globals(), \"Please, make sure you create the variable 'set_1' and try again.\"\n",
        "assert \"set_2\" in globals(), \"Please, make sure you create the variable 'set_2' and try again.\"\n",
        "#@markdown What is the method you used to find the items in set_2 but not in set_1?\n",
        "ans = \"difference\" #@param [\"union\", \"intersection\", \"difference\", \"symmetric_difference\"]\n",
        "marking_system.check_step_3(set_2_only, ans, set_1, set_2)\n"
      ]
    },
    {
      "cell_type": "markdown",
      "id": "6b7cdf82",
      "metadata": {
        "id": "6b7cdf82"
      },
      "source": [
        "### 4. Create a set that are in either `set_1` or `set_2` and name it `set_1_and_2`\n",
        "\n",
        "For example, if `set_1` is `{1, 2, 3, 4, 5}` and `set_2` is `{3, 4, 5, 6, 7}`, then `set_1_and_2` should be `{1, 2, 3, 4, 5, 6, 7}`."
      ]
    },
    {
      "cell_type": "code",
      "execution_count": 10,
      "id": "5f99c8fb",
      "metadata": {
        "id": "5f99c8fb"
      },
      "outputs": [],
      "source": [
        "# TODO - Find all items in either set_1 or set_2\n",
        "set_1_and_2 = set_1.union(set_2)"
      ]
    },
    {
      "cell_type": "code",
      "execution_count": 12,
      "id": "4d8ea42f",
      "metadata": {
        "id": "4d8ea42f",
        "outputId": "db7cb9bf-f052-41c3-db60-43ef676b8a16",
        "colab": {
          "base_uri": "https://localhost:8080/"
        }
      },
      "outputs": [
        {
          "output_type": "stream",
          "name": "stdout",
          "text": [
            "\u001b[92m✔ Well done! You have successfully found the elements that are in set_1 or set_2.\n"
          ]
        }
      ],
      "source": [
        "#@title #### Enter your solution here { display-mode: \"form\", run: \"auto\" }\n",
        "\n",
        "assert \"set_1_and_2\" in globals(), \"Please, make sure you create the variable 'set_1_and_2' and try again.\"\n",
        "assert \"set_1\" in globals(), \"Please, make sure you create the variable 'set_1' and try again.\"\n",
        "assert \"set_2\" in globals(), \"Please, make sure you create the variable 'set_2' and try again.\"\n",
        "#@markdown What is the method you used to find all items in set_1 and set_2?\n",
        "ans = \"union\" #@param [\"union\", \"intersection\", \"difference\", \"symmetric_difference\"]\n",
        "marking_system.check_step_4(set_1_and_2, ans, set_1, set_2)\n"
      ]
    },
    {
      "cell_type": "markdown",
      "id": "7d8bc7ab",
      "metadata": {
        "id": "7d8bc7ab"
      },
      "source": [
        "### 5. Return a set that contains items in `set_1` or `set_2` but not in both and name it `set_1_or_2`"
      ]
    },
    {
      "cell_type": "code",
      "execution_count": 13,
      "id": "43fbe9ed",
      "metadata": {
        "id": "43fbe9ed"
      },
      "outputs": [],
      "source": [
        "# TODO - Find items in set_1 or set_2 but not both\n",
        "set_1_or_2 = set_1.symmetric_difference(set_2)\n"
      ]
    },
    {
      "cell_type": "code",
      "execution_count": 14,
      "id": "5fd7ee1b",
      "metadata": {
        "id": "5fd7ee1b",
        "outputId": "24e4263a-2eae-4575-9c00-89f476efdf67",
        "colab": {
          "base_uri": "https://localhost:8080/"
        }
      },
      "outputs": [
        {
          "output_type": "stream",
          "name": "stdout",
          "text": [
            "\u001b[92m✔ Well done! You have successfully found the elements that are in set_1 or set_2 but not both.\n"
          ]
        }
      ],
      "source": [
        "#@title #### Enter your solution here { display-mode: \"form\", run: \"auto\" }\n",
        "\n",
        "assert \"set_1_or_2\" in globals(), \"Please, make sure you create the variable 'set_1_or_2' and try again.\"\n",
        "assert \"set_1\" in globals(), \"Please, make sure you create the variable 'set_1' and try again.\"\n",
        "assert \"set_2\" in globals(), \"Please, make sure you create the variable 'set_2' and try again.\"\n",
        "#@markdown What is the method you used to find items in set_1 or set_2 but not both?\n",
        "ans = \"symmetric_difference\" #@param [\"union\", \"intersection\", \"difference\", \"symmetric_difference\"]\n",
        "marking_system.check_step_5(set_1_or_2, ans, set_1, set_2)\n"
      ]
    }
  ],
  "metadata": {
    "kernelspec": {
      "display_name": "content-projects_new",
      "language": "python",
      "name": "python3"
    },
    "language_info": {
      "name": "python",
      "version": "3.10.8"
    },
    "vscode": {
      "interpreter": {
        "hash": "4b961f8166aad6ccb4cf65d0f9c742ef9c6c23ffe83ad932438cd83ed96aebaf"
      }
    },
    "colab": {
      "provenance": []
    }
  },
  "nbformat": 4,
  "nbformat_minor": 5
}