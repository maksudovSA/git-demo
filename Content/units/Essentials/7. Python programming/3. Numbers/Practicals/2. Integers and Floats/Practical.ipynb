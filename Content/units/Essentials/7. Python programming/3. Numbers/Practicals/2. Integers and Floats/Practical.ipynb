{
  "cells": [
    {
      "cell_type": "markdown",
      "metadata": {
        "id": "a0gT3tIcP0_8"
      },
      "source": [
        "# Integers and Floats"
      ]
    },
    {
      "cell_type": "code",
      "execution_count": 1,
      "metadata": {
        "id": "1e6f878c",
        "outputId": "0254f91f-b088-4f02-e253-6de30f8c7c7b",
        "colab": {
          "base_uri": "https://localhost:8080/"
        }
      },
      "outputs": [
        {
          "output_type": "stream",
          "name": "stdout",
          "text": [
            "Downloading the marking system\n"
          ]
        }
      ],
      "source": [
        "#@title ### Run the following cell to download the necessary files for this practical { display-mode: \"form\" }\n",
        "#@markdown Don't worry about what's in this collapsed cell\n",
        "\n",
        "print('Downloading the marking system')\n",
        "!wget https://s3-eu-west-1.amazonaws.com/aicore-portal-public-prod-307050600709/practical_files/cc9d26e3-cb43-4db4-be73-222e33e2ab3f/marking_system.py -q -O marking_system.py\n",
        "import marking_system\n",
        "import importlib\n",
        "importlib.reload(marking_system)\n",
        "import sys\n",
        "ipython = get_ipython()\n",
        "def hide_traceback(exc_tuple=None, filename=None, tb_offset=None, exception_only=False, running_compiled_code=False):\n",
        "    etype, value, tb = sys.exc_info()\n",
        "    value.__cause__ = None  # suppress chained exceptions\n",
        "    return ipython._showtraceback(etype, \"❌ \" + f\"\u001b[91m{value}\", ipython.InteractiveTB.get_exception_only(etype, \"❌ \" + f\"\u001b[91m{value}\"))\n",
        "ipython.showtraceback = hide_traceback\n"
      ]
    },
    {
      "cell_type": "markdown",
      "metadata": {
        "id": "3T3Ig4z5P0__"
      },
      "source": [
        "### 1. Define two variables, `a` and `b` and assign them the values `5` and `2` respectively."
      ]
    },
    {
      "cell_type": "code",
      "execution_count": 4,
      "metadata": {
        "id": "NJsr903LP0__"
      },
      "outputs": [],
      "source": [
        "# TODO: Create a variable called 'a' and assign it the value of 5.\n",
        "# TODO: Create a variable called 'b' and assign it the value of 2.\n",
        "a = 5\n",
        "b = 2\n"
      ]
    },
    {
      "cell_type": "code",
      "execution_count": 5,
      "metadata": {
        "id": "H5NwGVCRP1AA",
        "outputId": "ecc7022d-74a6-4f4e-a028-cc8053bfdf1f",
        "colab": {
          "base_uri": "https://localhost:8080/"
        }
      },
      "outputs": [
        {
          "output_type": "stream",
          "name": "stdout",
          "text": [
            "\u001b[92m✔ Well done! You have successfully assigned values to the variables 'a' and 'b'.\n"
          ]
        }
      ],
      "source": [
        "#@title #### Run this cell to check your solution { display-mode: \"form\", run: \"auto\" }\n",
        "\n",
        "assert \"a\" in globals(), \"You haven't defined the variable 'a'.\"\n",
        "assert \"b\" in globals(), \"You haven't defined the variable 'b'.\"\n",
        "marking_system.check_step_1(a=a, b=b)\n"
      ]
    },
    {
      "cell_type": "markdown",
      "metadata": {
        "id": "7NMkdsHsP1AA"
      },
      "source": [
        "### 2. What is the type of `a` and `b`?"
      ]
    },
    {
      "cell_type": "code",
      "execution_count": 6,
      "metadata": {
        "id": "vbH6eu2tP1AA",
        "outputId": "f2f65227-bb40-4101-c925-94ce50075865",
        "colab": {
          "base_uri": "https://localhost:8080/"
        }
      },
      "outputs": [
        {
          "output_type": "stream",
          "name": "stdout",
          "text": [
            "<class 'int'>\n",
            "<class 'int'>\n"
          ]
        }
      ],
      "source": [
        "# TODO: Print the type of 'a'.\n",
        "# TODO: Print the type of 'b'.\n",
        "print(type(a))\n",
        "print(type(b))"
      ]
    },
    {
      "cell_type": "code",
      "execution_count": 7,
      "metadata": {
        "id": "9Nz2I1VjP1AA",
        "outputId": "c678def3-d152-476e-80c7-70895c6796bf",
        "colab": {
          "base_uri": "https://localhost:8080/"
        }
      },
      "outputs": [
        {
          "output_type": "stream",
          "name": "stdout",
          "text": [
            "\u001b[92m✔ Well done! Your answer is correct.\n"
          ]
        }
      ],
      "source": [
        "#@title #### Enter your solution here { display-mode: \"form\", run: \"auto\" }\n",
        "\n",
        "#@markdown What is the type of 'a'?\n",
        "a_type = \"int\" #@param [\"int\", \"str\", \"float\"] {allow-input: true}\n",
        "#@markdown What is the type of 'b'?\n",
        "b_type = \"int\" #@param [\"int\", \"str\", \"float\"] {allow-input: true}\n",
        "marking_system.check_step_2(a_type=a_type, b_type=b_type)\n"
      ]
    },
    {
      "cell_type": "markdown",
      "metadata": {
        "id": "jUEHRjNzP1AA"
      },
      "source": [
        "### 3. Define a variable called `c` and assign it the value of `a / b`\n"
      ]
    },
    {
      "cell_type": "code",
      "execution_count": 8,
      "metadata": {
        "id": "pZQNZKEFP1AB"
      },
      "outputs": [],
      "source": [
        "# TODO: Create a variable called 'c' and assign it the value of 'a' divided by 'b'.\n",
        "c = a / b"
      ]
    },
    {
      "cell_type": "code",
      "execution_count": 9,
      "metadata": {
        "id": "3sXekLk2P1AB",
        "outputId": "7916c970-7549-4406-d61d-b88eb7c1e975",
        "colab": {
          "base_uri": "https://localhost:8080/"
        }
      },
      "outputs": [
        {
          "output_type": "stream",
          "name": "stdout",
          "text": [
            "\u001b[92m✔ Well done! You have successfully assigned the value of the division of 'a' by 'b' to the variable 'c'.\n"
          ]
        }
      ],
      "source": [
        "#@title #### Run this cell to check your solution { display-mode: \"form\", run: \"auto\" }\n",
        "\n",
        "assert \"c\" in globals(), \"You haven't defined the variable 'c'.\"\n",
        "marking_system.check_step_3(c=c)\n"
      ]
    },
    {
      "cell_type": "markdown",
      "metadata": {
        "id": "4Fx_IMmvP1AB"
      },
      "source": [
        "### 4. What is the type of `c`?"
      ]
    },
    {
      "cell_type": "code",
      "execution_count": 10,
      "metadata": {
        "id": "iWxZYTc1P1AB",
        "outputId": "d349d836-3053-4bd4-944b-580e1111a6bb",
        "colab": {
          "base_uri": "https://localhost:8080/"
        }
      },
      "outputs": [
        {
          "output_type": "stream",
          "name": "stdout",
          "text": [
            "<class 'float'>\n"
          ]
        }
      ],
      "source": [
        "# TODO: Print the type of 'c'.\n",
        "print(type(c))"
      ]
    },
    {
      "cell_type": "code",
      "execution_count": 11,
      "metadata": {
        "id": "of8JX6ihP1AB",
        "outputId": "9c98ee25-147b-4b6e-ebc7-73c676448aac",
        "colab": {
          "base_uri": "https://localhost:8080/"
        }
      },
      "outputs": [
        {
          "output_type": "stream",
          "name": "stdout",
          "text": [
            "\u001b[92m✔ Well done! Your answer is correct.\n"
          ]
        }
      ],
      "source": [
        "#@title #### Enter your solution here { display-mode: \"form\", run: \"auto\" }\n",
        "\n",
        "#@markdown What is the type of the 'c'?\n",
        "c_type = \"float\" #@param [\"int\", \"str\", \"float\"] {allow-input: true}\n",
        "marking_system.check_step_4(c_type=c_type)\n"
      ]
    },
    {
      "cell_type": "markdown",
      "metadata": {
        "id": "C__YMNyEP1AB"
      },
      "source": [
        "### 5. Define a variable called `d` and assign it the value of `a // b`\n"
      ]
    },
    {
      "cell_type": "code",
      "execution_count": 12,
      "metadata": {
        "id": "_Z5Ycu7EP1AC"
      },
      "outputs": [],
      "source": [
        "# TODO: Create a variable called 'd' and assign it the value of 'a' divided by 'b' using integer division.\n",
        "d = a // b"
      ]
    },
    {
      "cell_type": "code",
      "execution_count": 13,
      "metadata": {
        "id": "UAKC-aEGP1AC",
        "outputId": "2cb6564b-c0f0-42fd-b9ad-31af8c6c0b75",
        "colab": {
          "base_uri": "https://localhost:8080/"
        }
      },
      "outputs": [
        {
          "output_type": "stream",
          "name": "stdout",
          "text": [
            "\u001b[92m✔ Well done! You have successfully assigned the value of the floor division of 'a' by 'b' to the variable 'd'.By default, Python returns a float when performing a division operation, but it returns an integer when performing a floor division operation.\n"
          ]
        }
      ],
      "source": [
        "#@title #### Run this cell to check your solution { display-mode: \"form\", run: \"auto\" }\n",
        "\n",
        "assert \"d\" in globals(), \"You haven't defined the variable 'd'.\"\n",
        "marking_system.check_step_5(d=d)\n"
      ]
    },
    {
      "cell_type": "markdown",
      "metadata": {
        "id": "wplQxFt4P1AC"
      },
      "source": [
        "### 6. What is the type of `d`?\n"
      ]
    },
    {
      "cell_type": "code",
      "execution_count": 14,
      "metadata": {
        "id": "atempDHBP1AC",
        "outputId": "85329c46-490b-4631-c127-5508ba877f65",
        "colab": {
          "base_uri": "https://localhost:8080/"
        }
      },
      "outputs": [
        {
          "output_type": "stream",
          "name": "stdout",
          "text": [
            "<class 'int'>\n"
          ]
        }
      ],
      "source": [
        "# TODO: Print the type of 'd'.\n",
        "print(type(d))"
      ]
    },
    {
      "cell_type": "code",
      "execution_count": 15,
      "metadata": {
        "id": "mkCiSLI6P1AC",
        "outputId": "d42f38ae-5ec9-4ab8-bd1c-144d4d6534d5",
        "colab": {
          "base_uri": "https://localhost:8080/"
        }
      },
      "outputs": [
        {
          "output_type": "stream",
          "name": "stdout",
          "text": [
            "\u001b[92m✔ Well done! A floor division operation returns an integer.\n"
          ]
        }
      ],
      "source": [
        "#@title #### Enter your solution here { display-mode: \"form\", run: \"auto\" }\n",
        "\n",
        "#@markdown What is the type of the 'd'?\n",
        "d_type = \"int\" #@param [\"int\", \"str\", \"float\", \"None\"] {allow-input: true}\n",
        "marking_system.check_step_6(d_type=d_type)\n"
      ]
    }
  ],
  "metadata": {
    "kernelspec": {
      "display_name": "content-projects_new",
      "language": "python",
      "name": "python3"
    },
    "language_info": {
      "codemirror_mode": {
        "name": "ipython",
        "version": 3
      },
      "file_extension": ".py",
      "mimetype": "text/x-python",
      "name": "python",
      "nbconvert_exporter": "python",
      "pygments_lexer": "ipython3",
      "version": "3.10.8"
    },
    "vscode": {
      "interpreter": {
        "hash": "4b961f8166aad6ccb4cf65d0f9c742ef9c6c23ffe83ad932438cd83ed96aebaf"
      }
    },
    "colab": {
      "provenance": []
    }
  },
  "nbformat": 4,
  "nbformat_minor": 0
}